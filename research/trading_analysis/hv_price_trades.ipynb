{
 "cells": [
  {
   "cell_type": "markdown",
   "id": "0",
   "metadata": {},
   "source": [
    "HoloViews + Datashader: Price with Trades (interactive)\n",
    "- Fast line rendering for millions of points via Datashader\n",
    "- Zoom/pan with stable layout (no jitter)\n",
    "- Trades overlay filtered by visible x-range"
   ]
  },
  {
   "cell_type": "code",
   "execution_count": null,
   "id": "1",
   "metadata": {
    "lines_to_next_cell": 2
   },
   "outputs": [],
   "source": [
    "import os\n",
    "import pandas as pd\n",
    "import numpy as np\n",
    "\n",
    "import holoviews as hv\n",
    "import hvplot.pandas  # noqa: F401 - registers .hvplot\n",
    "from holoviews.operation.datashader import datashade, dynspread\n",
    "from holoviews.streams import RangeX\n",
    "\n",
    "# Jupyter+HoloViews (Bokeh backend)\n",
    "hv.extension(\"bokeh\")\n",
    "\n",
    "# Add project research path to import helpers\n",
    "import sys\n",
    "sys.path.append('/home/stan/src/download-polygon-aggregates/research')\n",
    "from data_downloader import get_filename  # noqa: E402"
   ]
  },
  {
   "cell_type": "code",
   "execution_count": null,
   "id": "2",
   "metadata": {
    "lines_to_next_cell": 2
   },
   "outputs": [],
   "source": [
    "# Configuration\n",
    "ticker = 'AAPL'\n",
    "interval = '5s'\n",
    "year = '2024'\n",
    "\n",
    "# Data locations (mirrors price_trades.py approach)\n",
    "pwd = '/home/stan/src/download-polygon-aggregates/research/data'\n",
    "bars_path = os.path.join(pwd, '..', get_filename(ticker, interval, year))\n",
    "trades_path = os.path.join(pwd, 'trades.csv')\n",
    "\n",
    "print(f\"Bars path: {os.path.abspath(bars_path)}\")\n",
    "print(f\"Trades path: {os.path.abspath(trades_path)}\")"
   ]
  },
  {
   "cell_type": "code",
   "execution_count": null,
   "id": "3",
   "metadata": {
    "lines_to_next_cell": 2
   },
   "outputs": [],
   "source": [
    "# Load OHLC bars\n",
    "bars = pd.read_parquet(bars_path)\n",
    "# Normalize timestamps to timezone-naive (ns) to satisfy datashader\n",
    "if np.issubdtype(bars['timestamp'].dtype, np.number):\n",
    "    ts = pd.to_datetime(bars['timestamp'], unit='s', utc=True)\n",
    "else:\n",
    "    ts = pd.to_datetime(bars['timestamp'], utc=True)\n",
    "# Drop timezone info while keeping UTC instants\n",
    "bars['timestamp'] = ts.dt.tz_convert('UTC').dt.tz_localize(None)\n",
    "bars = bars.sort_values('timestamp').reset_index(drop=True)\n",
    "\n",
    "print(f\"Loaded bars: {len(bars):,} rows from {bars['timestamp'].min()} to {bars['timestamp'].max()}\")"
   ]
  },
  {
   "cell_type": "code",
   "execution_count": null,
   "id": "4",
   "metadata": {
    "lines_to_next_cell": 2
   },
   "outputs": [],
   "source": [
    "# Load trades (optional)\n",
    "if os.path.exists(trades_path):\n",
    "    trades = pd.read_csv(trades_path, parse_dates=[\"entry_ts\", \"exit_ts\"]).sort_values(\"entry_ts\")\n",
    "    # Normalize trade timestamps to timezone-naive\n",
    "    trades['entry_ts'] = pd.to_datetime(trades['entry_ts'], utc=True).dt.tz_convert('UTC').dt.tz_localize(None)\n",
    "    trades['exit_ts'] = pd.to_datetime(trades['exit_ts'], utc=True).dt.tz_convert('UTC').dt.tz_localize(None)\n",
    "    # Normalize column names if needed\n",
    "    if 'side' in trades.columns:\n",
    "        trades['side'] = trades['side'].astype(str).str.lower()\n",
    "    print(f\"Loaded trades: {len(trades):,} rows from {trades['entry_ts'].min()} to {trades['exit_ts'].max()}\")\n",
    "else:\n",
    "    # Empty placeholder to keep overlay logic simple\n",
    "    trades = pd.DataFrame(columns=['trade_id','side','entry_ts','entry_price','exit_ts','exit_price','pnl'])\n",
    "    print(\"Trades file not found — overlay disabled until you provide research/data/trades.csv\")"
   ]
  },
  {
   "cell_type": "code",
   "execution_count": null,
   "id": "5",
   "metadata": {},
   "outputs": [],
   "source": [
    "# Base price curve (close line) -> Datashader for fast rendering\n",
    "curve = hv.Curve(bars, kdims='timestamp', vdims='close')\n",
    "# Use default aggregator; passing None triggers a validation error\n",
    "shaded = dynspread(datashade(curve, width=1200, height=500))\n",
    "\n",
    "# Visible x-range stream (drives dynamic overlays)\n",
    "rng = RangeX(source=shaded)"
   ]
  },
  {
   "cell_type": "code",
   "execution_count": null,
   "id": "6",
   "metadata": {},
   "outputs": [],
   "source": [
    "# Dynamic trades layer filtered by visible x-range\n",
    "def _trades_in_view(x_range):\n",
    "    if trades.empty:\n",
    "        return hv.Points([])\n",
    "\n",
    "    if x_range is None:\n",
    "        df = trades\n",
    "    else:\n",
    "        x0, x1 = pd.to_datetime(x_range[0]), pd.to_datetime(x_range[1])\n",
    "        df = trades[(trades['entry_ts'] >= x0) & (trades['entry_ts'] <= x1)]\n",
    "\n",
    "    if df.empty:\n",
    "        return hv.Points([])\n",
    "\n",
    "    buys = df[df['side'] == 'long'] if 'side' in df.columns else df.iloc[0:0]\n",
    "    sells = df[df['side'] == 'short'] if 'side' in df.columns else df.iloc[0:0]\n",
    "\n",
    "    p_buys = hv.Points(buys, kdims=['entry_ts','entry_price']).opts(\n",
    "        color='green', size=6, marker='triangle', alpha=0.9,\n",
    "    ) if not buys.empty else hv.Points([])\n",
    "\n",
    "    p_sells = hv.Points(sells, kdims=['entry_ts','entry_price']).opts(\n",
    "        color='red', size=6, marker='inverted_triangle', alpha=0.9,\n",
    "    ) if not sells.empty else hv.Points([])\n",
    "\n",
    "    return p_buys * p_sells\n",
    "\n",
    "points_dyn = hv.DynamicMap(_trades_in_view, streams=[rng])"
   ]
  },
  {
   "cell_type": "code",
   "execution_count": null,
   "id": "7",
   "metadata": {
    "lines_to_next_cell": 2
   },
   "outputs": [],
   "source": [
    "# Optional: dynamic y-bounds based on visible bars to keep Y autoscaled without jitter.\n",
    "def _ybounds_in_view(x_range):\n",
    "    # Compute min/max of OHLC over the visible x-range and return a transparent Bounds element\n",
    "    if x_range is None:\n",
    "        x0, x1 = bars['timestamp'].min(), bars['timestamp'].max()\n",
    "    else:\n",
    "        x0, x1 = pd.to_datetime(x_range[0]), pd.to_datetime(x_range[1])\n",
    "\n",
    "    vis = bars[(bars['timestamp'] >= x0) & (bars['timestamp'] <= x1)]\n",
    "    if vis.empty:\n",
    "        return hv.Bounds((x0, bars['low'].min(), x1, bars['high'].max())).opts(alpha=0)\n",
    "\n",
    "    y_min = float(np.nanmin(vis[['low','close']].min()))\n",
    "    y_max = float(np.nanmax(vis[['high','close']].max()))\n",
    "    pad = (y_max - y_min) * 0.05 if np.isfinite(y_max - y_min) else 0.0\n",
    "    y0, y1 = y_min - pad, y_max + pad\n",
    "    return hv.Bounds((x0, y0, x1, y1)).opts(alpha=0)\n",
    "\n",
    "ybounds_dyn = hv.DynamicMap(_ybounds_in_view, streams=[rng])"
   ]
  },
  {
   "cell_type": "code",
   "execution_count": null,
   "id": "8",
   "metadata": {
    "lines_to_next_cell": 2
   },
   "outputs": [],
   "source": [
    "# Final plot\n",
    "plot = (shaded * points_dyn * ybounds_dyn).opts(\n",
    "    hv.opts.Overlay(\n",
    "        width=1200, height=500, toolbar='above',\n",
    "        tools=['xwheel_zoom','xpan','reset','crosshair','hover'],\n",
    "        active_tools=['xwheel_zoom'],\n",
    "        show_grid=True,\n",
    "        framewise=True,\n",
    "    ),\n",
    "    hv.opts.Curve(line_color='#3b7dd8'),\n",
    ")\n",
    "\n",
    "plot"
   ]
  },
  {
   "cell_type": "markdown",
   "id": "9",
   "metadata": {},
   "source": [
    "Notes\n",
    "- Wheel zoom (x-only) and pan are enabled; borders are fixed to avoid layout jitter.\n",
    "- Datashader rasterizes the price curve for speed. Trades are drawn as vector glyphs only for the visible window.\n",
    "- Provide trades at research/data/trades.csv with columns:\n",
    "  trade_id, side in {long,short}, entry_ts, entry_price, exit_ts, exit_price, pnl, ...\n",
    "- To sync this .py with a .ipynb, use tools/jupytext_sync.sh"
   ]
  }
 ],
 "metadata": {
  "jupytext": {
   "hide_notebook_metadata": true
  },
  "kernelspec": {
   "display_name": "venv",
   "language": "python",
   "name": "python3"
  },
  "language_info": {
   "codemirror_mode": {
    "name": "ipython",
    "version": 3
   },
   "file_extension": ".py",
   "mimetype": "text/x-python",
   "name": "python",
   "nbconvert_exporter": "python",
   "pygments_lexer": "ipython3",
   "version": "3.12.11"
  }
 },
 "nbformat": 4,
 "nbformat_minor": 5
}
