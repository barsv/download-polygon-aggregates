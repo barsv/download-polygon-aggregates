{
 "cells": [
  {
   "cell_type": "markdown",
   "id": "0",
   "metadata": {},
   "source": [
    "TL;DR: don't read this notebook. use [pandas_market_calendars](https://github.com/rsheftel/pandas_market_calendars?tab=readme-ov-file)\n",
    "\n",
    "long story:\n",
    "\n",
    "this notebook was inspired by https://github.com/shinathan/polygon.io-stock-database/blob/main/02_market_hours.ipynb\n",
    "but AFAIU it is not needed because i found [pandas_market_calendars](https://github.com/rsheftel/pandas_market_calendars?tab=readme-ov-file)\n",
    "\n",
    "the idea was to download SPY minute bars and assume that since SPY has a lot of volume then it's possible to identify open/close hours for the market by looking at when there is a first trade for SPY.\n",
    "\n",
    "but the first thing that i noticed was that when i executed the code in https://github.com/shinathan/polygon.io-stock-database/blob/main/02_market_hours.ipynb i got not the same results as the author had. next i checked that the hour of the first trade for SPY is not always 4am as it was assumed by the author.\n",
    "\n",
    "the result is that AFAIU it's not a good idea to try to identify market hours from SPY."
   ]
  },
  {
   "cell_type": "code",
   "execution_count": null,
   "id": "1",
   "metadata": {},
   "outputs": [],
   "source": [
    "%pip install polygon-api-client pandas python-dateutil"
   ]
  },
  {
   "cell_type": "code",
   "execution_count": null,
   "id": "2",
   "metadata": {},
   "outputs": [],
   "source": [
    "import pandas as pd\n",
    "\n",
    "# data was loaded by download_bars.py\n",
    "\n",
    "# Read the CSV file\n",
    "df = pd.read_csv('../../polygon-data/bars/1minute/SPY.csv')\n",
    "df"
   ]
  },
  {
   "cell_type": "code",
   "execution_count": null,
   "id": "3",
   "metadata": {},
   "outputs": [],
   "source": [
    "# get only the timestamp column\n",
    "timestamps = pd.to_datetime(df['timestamp'])\n",
    "# truncate hours\n",
    "hours = timestamps.dt.floor('H')\n",
    "# remove duplicate hours\n",
    "unique_hours = hours.drop_duplicates()\n",
    "unique_hours"
   ]
  },
  {
   "cell_type": "code",
   "execution_count": null,
   "id": "4",
   "metadata": {},
   "outputs": [],
   "source": [
    "# for each day get the first and last hour\n",
    "first_hours = unique_hours.groupby(unique_hours.dt.date).first()\n",
    "last_hours = unique_hours.groupby(unique_hours.dt.date).last()\n",
    "# create a DataFrame with the first and last hours\n",
    "first_last_hours = pd.DataFrame({\n",
    "    'first_hour': first_hours,\n",
    "    'last_hour': last_hours\n",
    "})\n",
    "first_last_hours"
   ]
  },
  {
   "cell_type": "code",
   "execution_count": null,
   "id": "5",
   "metadata": {},
   "outputs": [],
   "source": [
    "# rows that do not start at 04:00 or 08:00\n",
    "irregular_opens = first_last_hours[\n",
    "    (first_last_hours['first_hour'].dt.hour != 4) &\n",
    "    (first_last_hours['first_hour'].dt.hour != 8)\n",
    "]\n",
    "irregular_opens"
   ]
  },
  {
   "cell_type": "code",
   "execution_count": null,
   "id": "6",
   "metadata": {},
   "outputs": [],
   "source": [
    "%pip install pandas_market_calendars"
   ]
  },
  {
   "cell_type": "code",
   "execution_count": null,
   "id": "7",
   "metadata": {},
   "outputs": [],
   "source": [
    "import pandas_market_calendars as mcal\n",
    "\n",
    "# Create a calendar\n",
    "nyse = mcal.get_calendar('NYSE')\n",
    "\n",
    "# Show available calendars\n",
    "# print(mcal.get_calendar_names())\n",
    "nyse.schedule(start_date='2004-05-20', end_date='2004-05-22')"
   ]
  },
  {
   "cell_type": "code",
   "execution_count": null,
   "id": "8",
   "metadata": {},
   "outputs": [],
   "source": [
    "irregular_opens"
   ]
  },
  {
   "cell_type": "code",
   "execution_count": null,
   "id": "9",
   "metadata": {},
   "outputs": [],
   "source": [
    "irregular_closes = first_last_hours[(first_last_hours['last_hour'].dt.hour != 19) &\n",
    "    (first_last_hours['last_hour'].dt.hour != 20) &\n",
    "    (first_last_hours['last_hour'].dt.hour != 18)]\n",
    "irregular_closes"
   ]
  },
  {
   "cell_type": "code",
   "execution_count": null,
   "id": "10",
   "metadata": {},
   "outputs": [],
   "source": [
    "nyse.schedule(start_date='2024-12-23', end_date='2024-12-30')"
   ]
  },
  {
   "cell_type": "markdown",
   "id": "11",
   "metadata": {},
   "source": [
    "one more check - that SPY has at least trades for all days where pandas_market_calendars says that it was a trading day."
   ]
  },
  {
   "cell_type": "code",
   "execution_count": null,
   "id": "12",
   "metadata": {},
   "outputs": [],
   "source": [
    "# get days from unique_hours\n",
    "unique_days = unique_hours.dt.date.drop_duplicates()\n",
    "first_day = str(unique_days.iloc[0])\n",
    "last_day = str(unique_days.iloc[-1])\n",
    "nyse_schedule = nyse.schedule(start_date=first_day, end_date=last_day)\n",
    "nyse_schedule"
   ]
  },
  {
   "cell_type": "code",
   "execution_count": null,
   "id": "13",
   "metadata": {},
   "outputs": [],
   "source": [
    "# convert the index to a Series of dates to be comparable with unique_days\n",
    "nyse_days = pd.Series(nyse_schedule.index.date)"
   ]
  },
  {
   "cell_type": "code",
   "execution_count": null,
   "id": "14",
   "metadata": {},
   "outputs": [],
   "source": [
    "# check that unique_days are in the NYSE schedule\n",
    "print(nyse_days.isin(unique_days).all())\n",
    "# and that the NYSE schedule is in unique_days\n",
    "print(unique_days.isin(nyse_days).all())"
   ]
  },
  {
   "cell_type": "code",
   "execution_count": null,
   "id": "15",
   "metadata": {},
   "outputs": [],
   "source": [
    "extended = nyse.schedule(start_date=first_day, end_date=last_day, start=\"pre\", end=\"post\")\n",
    "extended\n"
   ]
  }
 ],
 "metadata": {
  "kernelspec": {
   "display_name": ".venv",
   "language": "python",
   "name": "python3"
  },
  "language_info": {
   "codemirror_mode": {
    "name": "ipython",
    "version": 3
   },
   "file_extension": ".py",
   "mimetype": "text/x-python",
   "name": "python",
   "nbconvert_exporter": "python",
   "pygments_lexer": "ipython3",
   "version": "3.12.11"
  }
 },
 "nbformat": 4,
 "nbformat_minor": 5
}
