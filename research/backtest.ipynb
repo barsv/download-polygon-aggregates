{
 "cells": [
  {
   "cell_type": "code",
   "execution_count": 1,
   "id": "2afbde3b",
   "metadata": {},
   "outputs": [],
   "source": [
    "#!pip install pandas pyarrow scipy"
   ]
  },
  {
   "cell_type": "code",
   "execution_count": 2,
   "id": "603b32f7",
   "metadata": {},
   "outputs": [],
   "source": [
    "import numpy as np\n",
    "import sys, os\n",
    "import pandas as pd\n",
    "import plotly.express as px\n",
    "import random\n",
    "from tqdm import tqdm\n",
    "\n",
    "from data_downloader import download, get_filename\n",
    "from pattern_analysis import get_alpha_lambda, get_rmse, create_window\n",
    "from pattern_searcher import PatternSearcher"
   ]
  },
  {
   "cell_type": "code",
   "execution_count": 3,
   "id": "f408c72b",
   "metadata": {},
   "outputs": [],
   "source": [
    "ticker = 'AAPL'\n",
    "interval = '5s'\n",
    "year = '2024'\n",
    "# Set the random seed for reproducibility\n",
    "random.seed(42)"
   ]
  },
  {
   "cell_type": "code",
   "execution_count": null,
   "id": "76cf0d10",
   "metadata": {},
   "outputs": [],
   "source": [
    "# download data to the file on disk.\n",
    "filename = get_filename(ticker, interval, year)\n",
    "if not os.path.exists(filename):\n",
    "\tdownload(ticker, interval, year)\n",
    "# read data from the file on disk.\n",
    "filename = get_filename(ticker, interval, year)\n",
    "df = pd.read_parquet(filename)\n",
    "\n",
    "# show data.\n",
    "# fig = px.line(df[-1000:], y='open', title=f'{ticker} Open Prices')\n",
    "# fig.show()\n",
    "# total_bars = df.shape[0]\n",
    "# print(f'Total bars: {total_bars} ({total_bars:,})')"
   ]
  },
  {
   "cell_type": "code",
   "execution_count": 5,
   "id": "0f72e0d8",
   "metadata": {},
   "outputs": [],
   "source": [
    "m = 60 # window size"
   ]
  },
  {
   "cell_type": "code",
   "execution_count": null,
   "id": "b1c8aa99",
   "metadata": {},
   "outputs": [],
   "source": [
    "# Instantiate the optimized PatternSearcher with the 'open' column and fixed template length\n",
    "searcher = PatternSearcher(df['open'], template_length=m)\n",
    "\n",
    "# # Print searcher statistics\n",
    "# print(\"PatternSearcher Statistics:\")\n",
    "# stats = searcher.get_stats()\n",
    "# for key, value in stats.items():\n",
    "#     print(f\"  {key}: {value}\")"
   ]
  },
  {
   "cell_type": "code",
   "execution_count": 7,
   "id": "b6010907",
   "metadata": {},
   "outputs": [
    {
     "name": "stderr",
     "output_type": "stream",
     "text": [
      "100%|██████████| 100/100 [00:10<00:00,  9.34it/s]\n"
     ]
    }
   ],
   "source": [
    "N = 100\n",
    "correlations = []\n",
    "# get correlations for N randomly sampled patterns\n",
    "for _ in tqdm(range(N)):\n",
    "    start_index = random.randrange(0, len(df) - m)\n",
    "    pattern = create_window(df, start_index, m)\n",
    "    correlations.append({\n",
    "        'start_index': start_index,\n",
    "        'similar': searcher.get_rs_above(pattern, 0.97)\n",
    "    })\n"
   ]
  },
  {
   "cell_type": "code",
   "execution_count": 8,
   "id": "4dec3d31",
   "metadata": {},
   "outputs": [],
   "source": [
    "# total_analyzed = 0\n",
    "# for corr in correlations:\n",
    "#     print(f'index = {corr[\"start_index\"]}, similar patterns: {len(corr[\"similar\"])}')\n",
    "#     total_analyzed += len(corr['similar'])\n",
    "# print(f'Total analyzed points: {total_analyzed}')"
   ]
  }
 ],
 "metadata": {
  "kernelspec": {
   "display_name": "venv",
   "language": "python",
   "name": "python3"
  },
  "language_info": {
   "codemirror_mode": {
    "name": "ipython",
    "version": 3
   },
   "file_extension": ".py",
   "mimetype": "text/x-python",
   "name": "python",
   "nbconvert_exporter": "python",
   "pygments_lexer": "ipython3",
   "version": "3.12.11"
  }
 },
 "nbformat": 4,
 "nbformat_minor": 5
}
