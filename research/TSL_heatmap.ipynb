{
 "cells": [
  {
   "cell_type": "code",
   "execution_count": null,
   "metadata": {
    "colab": {
     "base_uri": "https://localhost:8080/"
    },
    "id": "DSOxAcbV31wl",
    "outputId": "41232bbc-a21d-4429-e622-0a6e1a50f9d0"
   },
   "outputs": [],
   "source": [
    "# %pip install pandas pyarrow\n",
    "# %pip install tqdm\n",
    "# %pip install plotly\n",
    "# %pip install nbformat\n",
    "# %pip install ipywidgets\n",
    "# %pip install numba"
   ]
  },
  {
   "cell_type": "code",
   "execution_count": null,
   "metadata": {},
   "outputs": [],
   "source": [
    "import numpy as np\n",
    "import pandas as pd\n",
    "import plotly.express as px\n",
    "import os\n",
    "\n",
    "# Imports from local scripts.\n",
    "from data_downloader import download, get_filename\n",
    "from trailing_stop_loss import generate_stop_loss_levels\n",
    "from trailing_stop_loss import calculate_pl"
   ]
  },
  {
   "cell_type": "code",
   "execution_count": null,
   "metadata": {
    "colab": {
     "base_uri": "https://localhost:8080/"
    },
    "id": "ws9nB8H15SW3",
    "outputId": "6f57ee1b-f48c-4525-cfae-2e3e1b3f3c7c"
   },
   "outputs": [],
   "source": [
    "ticker = 'AAPL'\n",
    "interval = '5s'\n",
    "year = '2024'"
   ]
  },
  {
   "cell_type": "code",
   "execution_count": null,
   "metadata": {},
   "outputs": [],
   "source": [
    "# get data\n",
    "\n",
    "filename = get_filename(ticker, interval, year)\n",
    "# If file doesn't exist, then download it.\n",
    "if not os.path.exists(filename):\n",
    "\tdownload(ticker, interval, year)\n",
    "\n",
    "df = pd.read_parquet(filename)\n",
    "\n",
    "# # show what is loaded\n",
    "# fig = px.line(df[-1000:], y='open', title=f'{ticker} Open Prices')\n",
    "# fig.show()\n",
    "\n",
    "total_bars = df.shape[0]\n",
    "print(f'Total bars: {total_bars} ({total_bars:,})')"
   ]
  },
  {
   "cell_type": "code",
   "execution_count": null,
   "metadata": {
    "colab": {
     "base_uri": "https://localhost:8080/"
    },
    "id": "412f0d77",
    "outputId": "2c4ee381-6dc2-45c6-9b73-e4329b7dadb1"
   },
   "outputs": [],
   "source": [
    "# Set trailing stop-loss levels\n",
    "max_sl = 1\n",
    "sl_steps = 10\n",
    "stop_loss_percents, stop_loss_levels = generate_stop_loss_levels(max_sl, sl_steps)\n",
    "\n",
    "print(\"Stop-loss levels (in percent):\")\n",
    "print(stop_loss_percents)\n",
    "print(\"\\nStop-loss levels (as fractions):\")\n",
    "print(stop_loss_levels)"
   ]
  },
  {
   "cell_type": "markdown",
   "metadata": {},
   "source": [
    "#### helper functions"
   ]
  },
  {
   "cell_type": "code",
   "execution_count": null,
   "metadata": {},
   "outputs": [],
   "source": [
    "import plotly.graph_objects as go\n",
    "# New cell - Visualization function adapted for calculate_pl results\n",
    "def plot_sl_profits_2d(df_exp, results_2d, stop_loss_levels, start_idx=0):\n",
    "    \"\"\"Plot trailing SL profits using 2D array results from calculate_pl.\n",
    "    \n",
    "    Args:\n",
    "        df_exp: OHLC DataFrame\n",
    "        results_2d: 2D NumPy array from calculate_pl [sl_levels, entry_points]\n",
    "        stop_loss_levels: Array of SL levels\n",
    "        start_idx: Starting index offset for plotting\n",
    "    \"\"\"\n",
    "    fig = go.Figure()\n",
    "    \n",
    "    # Prepare data for scatter plot\n",
    "    sl_indices = []\n",
    "    entry_indices = []\n",
    "    profits = []\n",
    "    sl_prices = []\n",
    "    \n",
    "    for sl_idx, sl_level in enumerate(stop_loss_levels):\n",
    "        if sl_level == 0:\n",
    "            continue\n",
    "            \n",
    "        # Get profits for this SL level\n",
    "        sl_profits = results_2d[sl_idx, :]\n",
    "        \n",
    "        # Create corresponding entry indices and SL prices\n",
    "        for entry_idx in range(len(sl_profits)):\n",
    "            if not np.isnan(sl_profits[entry_idx]):\n",
    "                sl_indices.append(sl_idx)\n",
    "                entry_indices.append(entry_idx + start_idx)  # Adjust for plot offset\n",
    "                profits.append(sl_profits[entry_idx])\n",
    "                \n",
    "                # Calculate SL price: entry_price * (1 + sl_level)\n",
    "                entry_price = df_exp.iloc[entry_idx]['open']\n",
    "                sl_price = entry_price * (1 + sl_level)\n",
    "                sl_prices.append(sl_price)\n",
    "    \n",
    "    # Convert to arrays for plotting\n",
    "    profits = np.array(profits)\n",
    "    sl_prices = np.array(sl_prices)\n",
    "    entry_indices = np.array(entry_indices)\n",
    "    \n",
    "    if len(profits) == 0:\n",
    "        print(\"No valid data to plot\")\n",
    "        return\n",
    "    \n",
    "    # Calculate color scale\n",
    "    min_profit = profits.min()\n",
    "    max_profit = profits.max()\n",
    "    zero_position = (0 - min_profit) / (max_profit - min_profit) if max_profit != min_profit else 0.5\n",
    "    \n",
    "    custom_colorscale = [\n",
    "        [0.0, 'red'],           # Minimum profit = red\n",
    "        [zero_position, 'white'], # Zero profit = white\n",
    "        [1.0, 'blue']           # Maximum profit = blue\n",
    "    ]\n",
    "    \n",
    "    # Add stop-loss points\n",
    "    fig.add_trace(go.Scatter(\n",
    "        x=entry_indices,\n",
    "        y=sl_prices,\n",
    "        mode='markers',\n",
    "        marker=dict(\n",
    "            size=3,\n",
    "            color=profits,\n",
    "            colorscale=custom_colorscale,\n",
    "            showscale=True,\n",
    "            colorbar=dict(title='Profit (%)'),\n",
    "            cmin=min_profit,\n",
    "            cmax=max_profit\n",
    "        ),\n",
    "        name='SL Points'\n",
    "    ))\n",
    "    \n",
    "    # Add OHLC prices on top\n",
    "    x_indices = np.arange(len(df_exp)) + start_idx\n",
    "    \n",
    "    fig.add_trace(go.Scatter(\n",
    "        x=x_indices,\n",
    "        y=df_exp['open'],\n",
    "        mode='lines',\n",
    "        line=dict(color='black', width=1),\n",
    "        name='Open'\n",
    "    ))\n",
    "    fig.add_trace(go.Scatter(\n",
    "        x=x_indices,\n",
    "        y=df_exp['high'],\n",
    "        mode='lines',\n",
    "        line=dict(color='black', width=1),\n",
    "        name='High'\n",
    "    ))\n",
    "    fig.add_trace(go.Scatter(\n",
    "        x=x_indices,\n",
    "        y=df_exp['low'],\n",
    "        mode='lines',\n",
    "        line=dict(color='black', width=1),\n",
    "        name='Low'\n",
    "    ))\n",
    "    \n",
    "    fig.update_layout(\n",
    "        title=\"Trailing SL profits (using calculate_pl)\",\n",
    "        showlegend=False\n",
    "    )\n",
    "    \n",
    "    fig.show()"
   ]
  },
  {
   "cell_type": "code",
   "execution_count": null,
   "metadata": {},
   "outputs": [],
   "source": [
    "# New cell - Box plot function adapted for calculate_pl results\n",
    "def box_2d(results_2d, stop_loss_levels, title=None, percentiles=[0, 10, 25, 50, 75, 90, 100]):\n",
    "    \"\"\"\n",
    "    Custom box-like plot function for 2D array results from calculate_pl.\n",
    "    \n",
    "    Parameters:\n",
    "    results_2d: 2D NumPy array from calculate_pl [sl_levels, entry_points]\n",
    "    stop_loss_levels: Array of SL levels\n",
    "    title: str, plot title\n",
    "    percentiles: list of ints, percentiles to display (e.g., [0,10,25,50,75,90,100])\n",
    "    \"\"\"\n",
    "    # Ensure percentiles are sorted and converted to fractions\n",
    "    percentiles_sorted = sorted(percentiles)\n",
    "    quantile_fracs = [p / 100 for p in percentiles_sorted]\n",
    "    \n",
    "    # Prepare data for plotting\n",
    "    sl_levels_plot = []\n",
    "    percentile_values = {p: [] for p in percentiles_sorted}\n",
    "    mean_values = []\n",
    "    \n",
    "    for sl_idx, sl_level in enumerate(stop_loss_levels):\n",
    "        if sl_level == 0:\n",
    "            continue\n",
    "            \n",
    "        # Get profits for this SL level, excluding NaN values\n",
    "        sl_profits = results_2d[sl_idx, :]\n",
    "        valid_profits = sl_profits[~np.isnan(sl_profits)]\n",
    "        \n",
    "        if len(valid_profits) == 0:\n",
    "            continue\n",
    "            \n",
    "        sl_levels_plot.append(sl_level)\n",
    "        \n",
    "        # Calculate percentiles\n",
    "        for p, frac in zip(percentiles_sorted, quantile_fracs):\n",
    "            percentile_value = np.percentile(valid_profits, p)\n",
    "            percentile_values[p].append(percentile_value)\n",
    "        \n",
    "        # Calculate mean\n",
    "        mean_values.append(np.mean(valid_profits))\n",
    "    \n",
    "    # Convert to arrays\n",
    "    sl_levels_plot = np.array(sl_levels_plot)\n",
    "    mean_values = np.array(mean_values)\n",
    "    \n",
    "    # Initialize figure\n",
    "    fig = go.Figure()\n",
    "    \n",
    "    # Add a trace for each percentile\n",
    "    for p in percentiles_sorted:\n",
    "        fig.add_trace(go.Scatter(\n",
    "            x=sl_levels_plot,\n",
    "            y=percentile_values[p],\n",
    "            mode='lines+markers',\n",
    "            name=f'{p}th percentile',\n",
    "            line=dict(dash='solid' if p == 50 else 'dash'),\n",
    "            marker=dict(size=6)\n",
    "        ))\n",
    "    \n",
    "    # Add mean as a bold black line\n",
    "    fig.add_trace(go.Scatter(\n",
    "        x=sl_levels_plot,\n",
    "        y=mean_values,\n",
    "        mode='lines',\n",
    "        name='Mean',\n",
    "        line=dict(color='black', width=4),\n",
    "        hovertemplate='Mean: %{y:.2f}<extra></extra>'\n",
    "    ))\n",
    "    \n",
    "    # Update layout\n",
    "    fig.update_layout(\n",
    "        title=title,\n",
    "        xaxis_title='sl_level',\n",
    "        yaxis_title='profit',\n",
    "        legend_title='Metrics',\n",
    "        template='plotly_white'\n",
    "    )\n",
    "    \n",
    "    return fig"
   ]
  },
  {
   "cell_type": "markdown",
   "metadata": {},
   "source": [
    "#### calculate profits"
   ]
  },
  {
   "cell_type": "code",
   "execution_count": null,
   "metadata": {},
   "outputs": [],
   "source": [
    "# New cell - Calculate results using calculate_pl\n",
    "tsl_profits = calculate_pl(df, stop_loss_levels)\n",
    "print(f\"Results shape: {tsl_profits.shape}\")\n",
    "print(f\"Shape interpretation: ({len(stop_loss_levels)} SL levels, {len(df)-1} entry points)\")"
   ]
  },
  {
   "cell_type": "markdown",
   "metadata": {},
   "source": [
    "#### show results"
   ]
  },
  {
   "cell_type": "code",
   "execution_count": null,
   "metadata": {},
   "outputs": [],
   "source": [
    "# New cell - Test visualization with calculate_pl results\n",
    "plot_shift = 75*1000\n",
    "plot_window = 10*1000\n",
    "\n",
    "# Slice the price data\n",
    "plot_df_exp = df[plot_shift:plot_shift + plot_window]\n",
    "\n",
    "# Slice the 2D results array (columns correspond to entry points)\n",
    "plot_results_2d = tsl_profits[:, plot_shift:plot_shift + plot_window]\n",
    "\n",
    "print(f\"Plotting window: {plot_shift} to {plot_shift + plot_window}\")\n",
    "print(f\"Plot data shape: {plot_df_exp.shape}\")\n",
    "print(f\"Plot results shape: {plot_results_2d.shape}\")\n",
    "\n",
    "# Create visualization\n",
    "plot_sl_profits_2d(plot_df_exp, plot_results_2d, stop_loss_levels, start_idx=plot_shift)"
   ]
  },
  {
   "cell_type": "code",
   "execution_count": null,
   "metadata": {},
   "outputs": [],
   "source": [
    "# New cell - Second visualization example (matching the second commented cell)\n",
    "plot_shift = 85*1000\n",
    "plot_window = 10*1000\n",
    "\n",
    "# Slice the price data\n",
    "plot_df_exp = df[plot_shift:plot_shift + plot_window]\n",
    "\n",
    "# Slice the 2D results array\n",
    "plot_results_2d = tsl_profits[:, plot_shift:plot_shift + plot_window]\n",
    "\n",
    "print(f\"Plotting window: {plot_shift} to {plot_shift + plot_window}\")\n",
    "print(f\"Plot data shape: {plot_df_exp.shape}\")\n",
    "print(f\"Plot results shape: {plot_results_2d.shape}\")\n",
    "\n",
    "# Create visualization\n",
    "plot_sl_profits_2d(plot_df_exp, plot_results_2d, stop_loss_levels, start_idx=plot_shift)"
   ]
  },
  {
   "cell_type": "code",
   "execution_count": null,
   "metadata": {},
   "outputs": [],
   "source": [
    "# New cell - Example usage of box plot with calculate_pl results\n",
    "fig = box_2d(tsl_profits, stop_loss_levels,\n",
    "    title='Profit Distribution by Stop-Loss Level (calculate_pl)',\n",
    "    percentiles=[0, 25, 50, 75, 90, 100])\n",
    "fig.show()"
   ]
  }
 ],
 "metadata": {
  "colab": {
   "provenance": []
  },
  "jupytext": {
   "hide_notebook_metadata": true
  },
  "kernelspec": {
   "display_name": "venv (3.12.11)",
   "language": "python",
   "name": "python3"
  },
  "language_info": {
   "codemirror_mode": {
    "name": "ipython",
    "version": 3
   },
   "file_extension": ".py",
   "mimetype": "text/x-python",
   "name": "python",
   "nbconvert_exporter": "python",
   "pygments_lexer": "ipython3",
   "version": "3.12.11"
  }
 },
 "nbformat": 4,
 "nbformat_minor": 0
}
