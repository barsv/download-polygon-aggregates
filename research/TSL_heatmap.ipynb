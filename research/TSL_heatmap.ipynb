{
 "cells": [
  {
   "cell_type": "code",
   "execution_count": null,
   "metadata": {
    "colab": {
     "base_uri": "https://localhost:8080/"
    },
    "id": "DSOxAcbV31wl",
    "outputId": "41232bbc-a21d-4429-e622-0a6e1a50f9d0"
   },
   "outputs": [],
   "source": [
    "# %pip install pandas pyarrow\n",
    "# %pip install tqdm\n",
    "# %pip install plotly\n",
    "# %pip install nbformat\n",
    "# %pip install ipywidgets\n",
    "# %pip install numba"
   ]
  },
  {
   "cell_type": "code",
   "execution_count": null,
   "metadata": {},
   "outputs": [],
   "source": [
    "import numpy as np\n",
    "import pandas as pd\n",
    "import plotly.express as px\n",
    "import os\n",
    "\n",
    "# Imports from local scripts.\n",
    "from data_downloader import download, get_filename\n",
    "from trailing_stop_loss import generate_stop_loss_levels\n",
    "from trailing_stop_loss import calculate_pl"
   ]
  },
  {
   "cell_type": "code",
   "execution_count": null,
   "metadata": {
    "colab": {
     "base_uri": "https://localhost:8080/"
    },
    "id": "ws9nB8H15SW3",
    "outputId": "6f57ee1b-f48c-4525-cfae-2e3e1b3f3c7c"
   },
   "outputs": [],
   "source": [
    "ticker = 'AAPL'\n",
    "interval = '5s'\n",
    "year = '2024'"
   ]
  },
  {
   "cell_type": "code",
   "execution_count": null,
   "metadata": {},
   "outputs": [],
   "source": [
    "# get data\n",
    "\n",
    "filename = get_filename(ticker, interval, year)\n",
    "# If file doesn't exist, then download it.\n",
    "if not os.path.exists(filename):\n",
    "\tdownload(ticker, interval, year)\n",
    "\n",
    "df = pd.read_parquet(filename)\n",
    "\n",
    "# # show what is loaded\n",
    "# fig = px.line(df[-1000:], y='open', title=f'{ticker} Open Prices')\n",
    "# fig.show()\n",
    "\n",
    "total_bars = df.shape[0]\n",
    "print(f'Total bars: {total_bars} ({total_bars:,})')"
   ]
  },
  {
   "cell_type": "code",
   "execution_count": null,
   "metadata": {
    "colab": {
     "base_uri": "https://localhost:8080/"
    },
    "id": "412f0d77",
    "outputId": "2c4ee381-6dc2-45c6-9b73-e4329b7dadb1"
   },
   "outputs": [],
   "source": [
    "# Set trailing stop-loss levels\n",
    "max_sl = 1\n",
    "sl_steps = 10\n",
    "stop_loss_percents, stop_loss_levels = generate_stop_loss_levels(max_sl, sl_steps)\n",
    "\n",
    "print(\"Stop-loss levels (in percent):\")\n",
    "print(stop_loss_percents)\n",
    "print(\"\\nStop-loss levels (as fractions):\")\n",
    "print(stop_loss_levels)"
   ]
  },
  {
   "cell_type": "code",
   "execution_count": null,
   "metadata": {},
   "outputs": [],
   "source": [
    "results_df = calculate_pl(df, stop_loss_levels)\n",
    "# results_df"
   ]
  },
  {
   "cell_type": "code",
   "execution_count": null,
   "metadata": {},
   "outputs": [],
   "source": [
    "# Step 4: Visualization of results\n",
    "import plotly.graph_objects as go\n",
    "\n",
    "def plot_sl_profits(df_exp, results_df):\n",
    "    fig = go.Figure()\n",
    "\n",
    "    # Add stop-loss points\n",
    "    # For better performance, we can add all points in one call\n",
    "    # Filter out zero SL, as they do not carry information\n",
    "    plot_df = results_df.copy()#[results_df['sl_level'] != 0].copy()\n",
    "    plot_df['sl_price'] = plot_df['entry_price'] * (1 + plot_df['sl_level'])\n",
    "\n",
    "    min_profit = plot_df['profit'].min()\n",
    "    max_profit = plot_df['profit'].max()\n",
    "\n",
    "    # Calculate normalized position for zero (between 0 and 1)\n",
    "    zero_position = (0 - min_profit) / (max_profit - min_profit)\n",
    "\n",
    "    custom_colorscale = [\n",
    "        [0.0, 'red'],           # Minimum profit = red\n",
    "        [zero_position, 'white'], # Zero profit = white\n",
    "        [1.0, 'blue']           # Maximum profit = blue\n",
    "    ]\n",
    "\n",
    "    fig.add_trace(go.Scatter(\n",
    "        x=plot_df['index'],\n",
    "        y=plot_df['sl_price'],\n",
    "        mode='markers',\n",
    "        marker=dict(\n",
    "            size=3,\n",
    "            color=plot_df['profit'],\n",
    "            colorscale=custom_colorscale,\n",
    "            showscale=True,\n",
    "            colorbar=dict(title='Profit (%)'),\n",
    "            cmin=min_profit,  # Set the actual data range\n",
    "            cmax=max_profit\n",
    "        )\n",
    "    ))\n",
    "\n",
    "    # Add OHLC prices on top\n",
    "    fig.add_trace(go.Scatter(\n",
    "        # x=df_exp['timestamp'],\n",
    "        y=df_exp['open'],\n",
    "        mode='lines',\n",
    "        line=dict(color='black', width=1)\n",
    "    ))\n",
    "    fig.add_trace(go.Scatter(\n",
    "        y=df_exp['high'],\n",
    "        mode='lines',\n",
    "        line=dict(color='black', width=1)\n",
    "    ))\n",
    "    fig.add_trace(go.Scatter(\n",
    "        y=df_exp['low'],\n",
    "        mode='lines',\n",
    "        line=dict(color='black', width=1)\n",
    "    ))\n",
    "\n",
    "    fig.update_layout(\n",
    "        title=\"Trailing SL profits\",\n",
    "        showlegend=False\n",
    "    )\n",
    "\n",
    "    fig.show()"
   ]
  },
  {
   "cell_type": "code",
   "execution_count": null,
   "metadata": {},
   "outputs": [],
   "source": [
    "# Import result slicing utilities\n",
    "from trailing_stop_loss import slice_results_by_time"
   ]
  },
  {
   "cell_type": "code",
   "execution_count": null,
   "metadata": {},
   "outputs": [],
   "source": [
    "plot_shift = 75*1000\n",
    "plot_window = 10*1000\n",
    "plot_df = slice_results_by_time(results_df, start_idx=plot_shift, num_points=plot_window)\n",
    "plot_sl_profits(df[plot_shift:plot_shift + plot_window], plot_df)"
   ]
  },
  {
   "cell_type": "code",
   "execution_count": null,
   "metadata": {},
   "outputs": [],
   "source": [
    "plot_shift = 85*1000\n",
    "plot_window = 10*1000\n",
    "plot_df = slice_results_by_time(results_df, start_idx=plot_shift, num_points=plot_window)\n",
    "plot_sl_profits(df[plot_shift:plot_shift + plot_window], plot_df)"
   ]
  },
  {
   "cell_type": "code",
   "execution_count": null,
   "metadata": {},
   "outputs": [],
   "source": [
    "import pandas as pd\n",
    "import plotly.graph_objects as go\n",
    "\n",
    "# Custom plot function showing specified percentiles and the mean for each category\n",
    "def box(df, x, y, title=None, percentiles=[0, 10, 25, 50, 75, 90, 100]):\n",
    "    \"\"\"\n",
    "    Custom box-like plot function showing specified percentiles and the average for each category.\n",
    "    \n",
    "    Parameters:\n",
    "    df         : pandas.DataFrame\n",
    "    x          : str, column name for categories\n",
    "    y          : str, column name for values\n",
    "    title      : str, plot title\n",
    "    percentiles: list of ints, percentiles to display (e.g., [0,10,25,50,75,90,100])\n",
    "    \"\"\"\n",
    "    # Ensure percentiles are sorted and converted to fractions\n",
    "    percentiles_sorted = sorted(percentiles)\n",
    "    quantile_fracs = [p / 100 for p in percentiles_sorted]\n",
    "\n",
    "    # Compute the specified percentile values for each group\n",
    "    grouped_q = df.groupby(x)[y].quantile(quantile_fracs).unstack()\n",
    "    # Compute the mean value for each group\n",
    "    grouped_mean = df.groupby(x)[y].mean()\n",
    "\n",
    "    # Initialize figure\n",
    "    fig = go.Figure()\n",
    "\n",
    "    # Add a trace for each percentile\n",
    "    for p, frac in zip(percentiles_sorted, quantile_fracs):\n",
    "        fig.add_trace(go.Scatter(\n",
    "            x=grouped_q.index,\n",
    "            y=grouped_q[frac],\n",
    "            mode='lines+markers',\n",
    "            name=f'{p}th percentile',\n",
    "            line=dict(dash='solid' if p == 50 else 'dash'),\n",
    "            marker=dict(size=6)\n",
    "        ))\n",
    "\n",
    "    # Add mean as a bold black line\n",
    "    fig.add_trace(go.Scatter(\n",
    "        x=grouped_mean.index,\n",
    "        y=grouped_mean.values,\n",
    "        mode='lines',\n",
    "        name='Mean',\n",
    "        line=dict(color='black', width=4),\n",
    "        hovertemplate='Mean: %{y:.2f}<extra></extra>'\n",
    "    ))\n",
    "\n",
    "    # Update layout\n",
    "    fig.update_layout(\n",
    "        title=title,\n",
    "        xaxis_title=x,\n",
    "        yaxis_title=y,\n",
    "        legend_title='Metrics',\n",
    "        template='plotly_white'\n",
    "    )\n",
    "\n",
    "    return fig\n",
    "\n",
    "# Example usage:\n",
    "# fig = box(results_df, x='sl_level', y='profit',\n",
    "#           title='Profit Distribution by Stop-Loss Level',\n",
    "#           percentiles=[0, 10, 25, 50, 75, 90, 100])\n",
    "# fig.show()\n"
   ]
  },
  {
   "cell_type": "code",
   "execution_count": null,
   "metadata": {},
   "outputs": [],
   "source": [
    "# Example usage\n",
    "fig = box(results_df, x='sl_level', y='profit',\n",
    "    title='Profit Distribution by Stop-Loss Level',\n",
    "    percentiles=[0, 25, 50, 75, 90, 100])\n",
    "fig.show()\n"
   ]
  }
 ],
 "metadata": {
  "colab": {
   "provenance": []
  },
  "kernelspec": {
   "display_name": "venv (3.12.11)",
   "language": "python",
   "name": "python3"
  },
  "language_info": {
   "codemirror_mode": {
    "name": "ipython",
    "version": 3
   },
   "file_extension": ".py",
   "mimetype": "text/x-python",
   "name": "python",
   "nbconvert_exporter": "python",
   "pygments_lexer": "ipython3",
   "version": "3.12.11"
  }
 },
 "nbformat": 4,
 "nbformat_minor": 0
}
