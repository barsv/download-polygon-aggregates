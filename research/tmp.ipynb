{
 "cells": [
  {
   "cell_type": "code",
   "execution_count": 1,
   "id": "4cd2e5f8",
   "metadata": {},
   "outputs": [],
   "source": [
    "\n",
    "import pandas as pd\n",
    "import numpy as np\n",
    "import time\n",
    "import os\n",
    "import sys\n",
    "\n",
    "# Add the parent directory to Python path to import api_key module\n",
    "sys.path.append(os.path.dirname(os.path.abspath('')))\n",
    "import settings"
   ]
  },
  {
   "cell_type": "code",
   "execution_count": 8,
   "id": "8c00114c",
   "metadata": {},
   "outputs": [
    {
     "name": "stdout",
     "output_type": "stream",
     "text": [
      "          timestamp        open        high         low       close  volume  \\\n",
      "0        1672718400  130.279999  130.949997  130.279999  130.710007    2702   \n",
      "1        1672718403  130.830002  130.830002  130.830002  130.830002     288   \n",
      "2        1672718404  130.789993  130.789993  130.789993  130.789993     602   \n",
      "3        1672718408  130.949997  130.949997  130.949997  130.949997     641   \n",
      "4        1672718412  130.979996  131.000000  130.979996  131.000000     480   \n",
      "...             ...         ...         ...         ...         ...     ...   \n",
      "5462240  1703879882  192.220001  192.220001  192.199997  192.199997     902   \n",
      "5462241  1703879888  192.219894  192.219894  192.219894  192.219894     400   \n",
      "5462242  1703879906  192.130005  192.130005  192.100006  192.100006     705   \n",
      "5462243  1703879980  192.150497  192.150497  192.150497  192.150497    1099   \n",
      "5462244  1703879992  192.150101  192.150101  192.150101  192.150101    1000   \n",
      "\n",
      "               vwap  transactions   otc  \n",
      "0        130.705795            51  None  \n",
      "1        130.841599             9  None  \n",
      "2        130.791504             5  None  \n",
      "3        130.929596            20  None  \n",
      "4        130.980606             6  None  \n",
      "...             ...           ...   ...  \n",
      "5462240  192.209396             5  None  \n",
      "5462241  192.219894             1  None  \n",
      "5462242  192.106705            12  None  \n",
      "5462243  192.150497             3  None  \n",
      "5462244  192.150101             1  None  \n",
      "\n",
      "[5462245 rows x 9 columns]\n",
      "columns: Index(['timestamp', 'open', 'high', 'low', 'close', 'volume', 'vwap',\n",
      "       'transactions', 'otc'],\n",
      "      dtype='object')\n",
      "index: RangeIndex(start=0, stop=5462245, step=1)\n"
     ]
    }
   ],
   "source": [
    "\n",
    "dir_path = os.path.join(settings.ABSOLUTE_DATA_DIR, 'bars', '1second', 'AAPL')\n",
    "seconds_file = os.path.join(dir_path, '2023.parquet')\n",
    "df = pd.read_parquet(seconds_file)\n",
    "print(df)\n",
    "print(f'columns: {df.columns}')\n",
    "print(f'index: {df.index}')\n"
   ]
  },
  {
   "cell_type": "code",
   "execution_count": 5,
   "id": "8cd2a3ec",
   "metadata": {},
   "outputs": [
    {
     "name": "stdout",
     "output_type": "stream",
     "text": [
      "<pyarrow._parquet.ParquetSchema object at 0x7797a5161580>\n",
      "required group field_id=-1 schema {\n",
      "  optional int64 field_id=-1 timestamp;\n",
      "  optional float field_id=-1 open;\n",
      "  optional float field_id=-1 high;\n",
      "  optional float field_id=-1 low;\n",
      "  optional float field_id=-1 close;\n",
      "  optional int32 field_id=-1 volume (Int(bitWidth=32, isSigned=false));\n",
      "  optional float field_id=-1 vwap;\n",
      "  optional int32 field_id=-1 transactions (Int(bitWidth=32, isSigned=false));\n",
      "  optional int32 field_id=-1 otc (Null);\n",
      "}\n",
      "\n",
      "['timestamp', 'open', 'high', 'low', 'close', 'volume', 'vwap', 'transactions', 'otc']\n",
      "Row groups: 6\n",
      "Row group 0: 1048576 rows\n",
      "Row group 1: 1048576 rows\n",
      "Row group 2: 1048576 rows\n",
      "Row group 3: 1048576 rows\n",
      "Row group 4: 1048576 rows\n",
      "Row group 5: 219365 rows\n"
     ]
    }
   ],
   "source": [
    "import pyarrow.parquet as pq\n",
    "pf = pq.ParquetFile(seconds_file)\n",
    "print(pf.schema)\n",
    "column_names = pf.schema.names\n",
    "print(column_names)\n",
    "print(f\"Row groups: {pf.num_row_groups}\")\n",
    "for i in range(pf.num_row_groups):\n",
    "    print(f\"Row group {i}: {pf.metadata.row_group(i).num_rows} rows\")"
   ]
  },
  {
   "cell_type": "code",
   "execution_count": 9,
   "id": "f52c9a78",
   "metadata": {},
   "outputs": [
    {
     "name": "stdout",
     "output_type": "stream",
     "text": [
      "                  open        high         low       close  volume  \\\n",
      "timestamp                                                            \n",
      "1063180800    0.399400    0.399400    0.399400    0.399400    5600   \n",
      "1063183860    0.398200    0.398200    0.398200    0.398200   22400   \n",
      "1063185180    0.397700    0.397700    0.397700    0.397700   67200   \n",
      "1063185900    0.397300    0.398200    0.397300    0.398200   11200   \n",
      "1063186140    0.397500    0.397500    0.397000    0.397000  207200   \n",
      "...                ...         ...         ...         ...     ...   \n",
      "1751561700  213.589996  213.589996  213.550003  213.550003    1053   \n",
      "1751561760  213.529999  213.550003  213.529999  213.550003    2151   \n",
      "1751561820  213.549103  213.549103  213.549103  213.549103     500   \n",
      "1751561880  213.549500  213.568405  213.549500  213.568405     291   \n",
      "1751561940  213.550003  213.550003  213.550003  213.550003     100   \n",
      "\n",
      "                  vwap  transactions  \n",
      "timestamp                             \n",
      "1063180800    0.399400             1  \n",
      "1063183860    0.398200             1  \n",
      "1063185180    0.397700             1  \n",
      "1063185900    0.397750             2  \n",
      "1063186140    0.397180            10  \n",
      "...                ...           ...  \n",
      "1751561700  213.579849            11  \n",
      "1751561760  213.542725            14  \n",
      "1751561820  213.549103             1  \n",
      "1751561880  213.557892             3  \n",
      "1751561940  213.550003             1  \n",
      "\n",
      "[3547788 rows x 7 columns]\n",
      "columns: Index(['open', 'high', 'low', 'close', 'volume', 'vwap', 'transactions'], dtype='object')\n",
      "index: Index([1063180800, 1063183860, 1063185180, 1063185900, 1063186140, 1063186200,\n",
      "       1063186260, 1063186320, 1063186380, 1063186440,\n",
      "       ...\n",
      "       1751561340, 1751561400, 1751561460, 1751561580, 1751561640, 1751561700,\n",
      "       1751561760, 1751561820, 1751561880, 1751561940],\n",
      "      dtype='int64', name='timestamp', length=3547788)\n"
     ]
    }
   ],
   "source": [
    "dir_path = os.path.join(settings.ABSOLUTE_DATA_DIR, 'bars', '1minute')\n",
    "minutes_file = os.path.join(dir_path, 'AAPL.parquet')\n",
    "df = pd.read_parquet(minutes_file)\n",
    "print(df)\n",
    "print(f'columns: {df.columns}')\n",
    "print(f'index: {df.index}')"
   ]
  },
  {
   "cell_type": "code",
   "execution_count": 7,
   "id": "692bc888",
   "metadata": {},
   "outputs": [
    {
     "name": "stdout",
     "output_type": "stream",
     "text": [
      "<pyarrow._parquet.ParquetSchema object at 0x7797a5162f40>\n",
      "required group field_id=-1 schema {\n",
      "  optional float field_id=-1 open;\n",
      "  optional float field_id=-1 high;\n",
      "  optional float field_id=-1 low;\n",
      "  optional float field_id=-1 close;\n",
      "  optional int32 field_id=-1 volume (Int(bitWidth=32, isSigned=false));\n",
      "  optional float field_id=-1 vwap;\n",
      "  optional int32 field_id=-1 transactions (Int(bitWidth=32, isSigned=false));\n",
      "  optional int64 field_id=-1 timestamp;\n",
      "}\n",
      "\n",
      "['open', 'high', 'low', 'close', 'volume', 'vwap', 'transactions', 'timestamp']\n",
      "Row groups: 4\n",
      "Row group 0: 1048576 rows\n",
      "Row group 1: 1048576 rows\n",
      "Row group 2: 1048576 rows\n",
      "Row group 3: 402060 rows\n"
     ]
    }
   ],
   "source": [
    "import pyarrow.parquet as pq\n",
    "pf = pq.ParquetFile(minutes_file)\n",
    "print(pf.schema)\n",
    "column_names = pf.schema.names\n",
    "print(column_names)\n",
    "print(f\"Row groups: {pf.num_row_groups}\")\n",
    "for i in range(pf.num_row_groups):\n",
    "    print(f\"Row group {i}: {pf.metadata.row_group(i).num_rows} rows\")"
   ]
  }
 ],
 "metadata": {
  "kernelspec": {
   "display_name": "venv",
   "language": "python",
   "name": "python3"
  },
  "language_info": {
   "codemirror_mode": {
    "name": "ipython",
    "version": 3
   },
   "file_extension": ".py",
   "mimetype": "text/x-python",
   "name": "python",
   "nbconvert_exporter": "python",
   "pygments_lexer": "ipython3",
   "version": "3.12.11"
  }
 },
 "nbformat": 4,
 "nbformat_minor": 5
}
