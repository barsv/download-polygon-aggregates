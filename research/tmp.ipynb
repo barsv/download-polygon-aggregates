{
 "cells": [
  {
   "cell_type": "code",
   "execution_count": null,
   "id": "0",
   "metadata": {},
   "outputs": [],
   "source": [
    "\n",
    "import pandas as pd\n",
    "import numpy as np\n",
    "import time\n",
    "import os\n",
    "import sys\n",
    "\n",
    "# Add the parent directory to Python path to import api_key module\n",
    "sys.path.append(os.path.dirname(os.path.abspath('')))\n",
    "import settings"
   ]
  },
  {
   "cell_type": "code",
   "execution_count": null,
   "id": "1",
   "metadata": {},
   "outputs": [],
   "source": [
    "\n",
    "dir_path = os.path.join(settings.ABSOLUTE_DATA_DIR, 'bars', '1second', 'AAPL')\n",
    "seconds_file = os.path.join(dir_path, '2023.parquet')\n",
    "df = pd.read_parquet(seconds_file)\n",
    "print(df)\n",
    "print(f'columns: {df.columns}')\n",
    "print(f'index: {df.index}')\n"
   ]
  },
  {
   "cell_type": "code",
   "execution_count": null,
   "id": "2",
   "metadata": {},
   "outputs": [],
   "source": [
    "import pyarrow.parquet as pq\n",
    "pf = pq.ParquetFile(seconds_file)\n",
    "print(pf.schema)\n",
    "column_names = pf.schema.names\n",
    "print(column_names)\n",
    "print(f\"Row groups: {pf.num_row_groups}\")\n",
    "for i in range(pf.num_row_groups):\n",
    "    print(f\"Row group {i}: {pf.metadata.row_group(i).num_rows} rows\")"
   ]
  },
  {
   "cell_type": "code",
   "execution_count": null,
   "id": "3",
   "metadata": {},
   "outputs": [],
   "source": [
    "dir_path = os.path.join(settings.ABSOLUTE_DATA_DIR, 'bars', '1minute')\n",
    "minutes_file = os.path.join(dir_path, 'AAPL.parquet')\n",
    "df = pd.read_parquet(minutes_file)\n",
    "print(df)\n",
    "print(f'columns: {df.columns}')\n",
    "print(f'index: {df.index}')"
   ]
  },
  {
   "cell_type": "code",
   "execution_count": null,
   "id": "4",
   "metadata": {},
   "outputs": [],
   "source": [
    "import pyarrow.parquet as pq\n",
    "pf = pq.ParquetFile(minutes_file)\n",
    "print(pf.schema)\n",
    "column_names = pf.schema.names\n",
    "print(column_names)\n",
    "print(f\"Row groups: {pf.num_row_groups}\")\n",
    "for i in range(pf.num_row_groups):\n",
    "    print(f\"Row group {i}: {pf.metadata.row_group(i).num_rows} rows\")"
   ]
  }
 ],
 "metadata": {
  "kernelspec": {
   "display_name": "venv",
   "language": "python",
   "name": "python3"
  },
  "language_info": {
   "codemirror_mode": {
    "name": "ipython",
    "version": 3
   },
   "file_extension": ".py",
   "mimetype": "text/x-python",
   "name": "python",
   "nbconvert_exporter": "python",
   "pygments_lexer": "ipython3",
   "version": "3.12.11"
  }
 },
 "nbformat": 4,
 "nbformat_minor": 5
}
