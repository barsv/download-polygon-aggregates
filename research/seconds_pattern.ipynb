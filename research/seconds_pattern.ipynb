{
 "cells": [
  {
   "cell_type": "code",
   "execution_count": null,
   "metadata": {},
   "outputs": [],
   "source": [
    "#!pip install --upgrade pip\n",
    "#!pip install pandas pyarrow scipy"
   ]
  },
  {
   "cell_type": "code",
   "execution_count": null,
   "metadata": {},
   "outputs": [],
   "source": [
    "import os\n",
    "import requests\n",
    "from tqdm import tqdm\n",
    "\n",
    "from data_downloader import download, get_filename\n",
    "from pattern_analysis import get_alpha_lambda, get_rmse, create_window\n",
    "from pattern_searcher import PatternSearcher"
   ]
  },
  {
   "cell_type": "code",
   "execution_count": null,
   "metadata": {
    "colab": {
     "base_uri": "https://localhost:8080/"
    },
    "executionInfo": {
     "elapsed": 52909,
     "status": "ok",
     "timestamp": 1754123207798,
     "user": {
      "displayName": "Stanislav Baranov",
      "userId": "01012316052495130455"
     },
     "user_tz": -180
    },
    "id": "ws9nB8H15SW3",
    "outputId": "f59ba7f0-5988-4cd2-83c2-6ec0765d2272"
   },
   "outputs": [],
   "source": [
    "ticker = 'AAPL'\n",
    "interval = '5s'\n",
    "year = '2024'\n",
    "m = 60 # window size"
   ]
  },
  {
   "cell_type": "code",
   "execution_count": null,
   "metadata": {},
   "outputs": [],
   "source": [
    "filename = get_filename(ticker, interval, year)\n",
    "# If file doesn't exist, then download it.\n",
    "if not os.path.exists(filename):\n",
    "\tdownload(ticker, interval, year)"
   ]
  },
  {
   "cell_type": "code",
   "execution_count": null,
   "metadata": {
    "colab": {
     "base_uri": "https://localhost:8080/",
     "height": 542
    },
    "executionInfo": {
     "elapsed": 7337,
     "status": "ok",
     "timestamp": 1754123215145,
     "user": {
      "displayName": "Stanislav Baranov",
      "userId": "01012316052495130455"
     },
     "user_tz": -180
    },
    "id": "d07d5bb5",
    "outputId": "08bccf92-6546-4af4-fbcb-1150c0b86717"
   },
   "outputs": [],
   "source": [
    "# plot last points.\n",
    "import pandas as pd\n",
    "import plotly.express as px\n",
    "\n",
    "filename = get_filename(ticker, interval, year)\n",
    "df = pd.read_parquet(filename)\n",
    "\n",
    "# fig = px.line(df[-1000:], y='open', title=f'{ticker} Open Prices')\n",
    "# fig.show()\n",
    "\n",
    "total_bars = df.shape[0]\n",
    "print(f'Total bars: {total_bars} ({total_bars:,})')"
   ]
  },
  {
   "cell_type": "code",
   "execution_count": null,
   "metadata": {
    "executionInfo": {
     "elapsed": 4,
     "status": "ok",
     "timestamp": 1754123215218,
     "user": {
      "displayName": "Stanislav Baranov",
      "userId": "01012316052495130455"
     },
     "user_tz": -180
    },
    "id": "a2zYq5MJ8iZM"
   },
   "outputs": [],
   "source": [
    "a0 = create_window(df, 42, m)\n",
    "a = create_window(df, 82997, m)"
   ]
  },
  {
   "cell_type": "code",
   "execution_count": null,
   "metadata": {
    "colab": {
     "base_uri": "https://localhost:8080/",
     "height": 542
    },
    "executionInfo": {
     "elapsed": 64,
     "status": "ok",
     "timestamp": 1754123215279,
     "user": {
      "displayName": "Stanislav Baranov",
      "userId": "01012316052495130455"
     },
     "user_tz": -180
    },
    "id": "UdiYY_cNAsK6",
    "outputId": "23b023fe-ebe8-4259-e78a-23070135e769"
   },
   "outputs": [],
   "source": [
    "# plot the original data without re-scalling.\n",
    "\n",
    "import plotly.graph_objects as go\n",
    "from plotly.subplots import make_subplots\n",
    "\n",
    "# Create subplots\n",
    "fig = make_subplots(\n",
    "    rows=2, cols=2,\n",
    "    specs=[[{\"rowspan\": 2}, {\"rowspan\": 1}],\n",
    "           [None, {}]],\n",
    "    subplot_titles=(\"Shared Y-axis\", \"a0 (Separate Y-axis)\", \"a (Separate Y-axis)\")\n",
    ")\n",
    "\n",
    "# Plot on the left (shared y-axis)\n",
    "fig.add_trace(go.Scatter(y=a0, name='a0'), row=1, col=1)\n",
    "fig.add_trace(go.Scatter(y=a, name='a'), row=1, col=1)\n",
    "\n",
    "# Plot on the right (separate y-axes)\n",
    "fig.add_trace(go.Scatter(y=a0, name='a0'), row=1, col=2)\n",
    "fig.add_trace(go.Scatter(y=a, name='a'), row=2, col=2)\n",
    "\n",
    "fig.update_layout(margin=dict(b=100))  # Увеличь отступ снизу\n",
    "\n",
    "fig.add_annotation(\n",
    "    text=\"Fig. 1. Here a and a0 are plotted on the same Y scale.\",\n",
    "    xref=\"paper\", yref=\"paper\",\n",
    "    x=0, y=-0.20,\n",
    "    showarrow=False,\n",
    "    font=dict(size=16),\n",
    ")\n",
    "\n",
    "fig.add_annotation(\n",
    "    text=\"Fig. 2. Here a and a0 are plotted each on it's own Y scale.\",\n",
    "    xref=\"paper\", yref=\"paper\",\n",
    "    x=0.8, y=-0.20,\n",
    "    showarrow=False,\n",
    "    font=dict(size=16),\n",
    ")\n",
    "fig.show()"
   ]
  },
  {
   "cell_type": "code",
   "execution_count": null,
   "metadata": {
    "colab": {
     "base_uri": "https://localhost:8080/",
     "height": 577
    },
    "executionInfo": {
     "elapsed": 41,
     "status": "ok",
     "timestamp": 1754123215343,
     "user": {
      "displayName": "Stanislav Baranov",
      "userId": "01012316052495130455"
     },
     "user_tz": -180
    },
    "id": "mN2q786W3llK",
    "outputId": "4ca9a1d5-fb4c-45e1-a142-d3d3e7d1ae48"
   },
   "outputs": [],
   "source": [
    "# now rescale.\n",
    "\n",
    "import numpy as np\n",
    "\n",
    "def plot_rescaled(a0, a):\n",
    "    alpha, lmbda = get_alpha_lambda(a0, a)\n",
    "    print(f'alpha = {alpha}')\n",
    "    print(f'lambda = {lmbda}')\n",
    "\n",
    "    # Apply the transformation\n",
    "    a_transformed = alpha * a + lmbda\n",
    "\n",
    "    # Plot the original and transformed data\n",
    "    import plotly.graph_objects as go\n",
    "\n",
    "    fig = go.Figure()\n",
    "    fig.add_trace(go.Scatter(y=a0, name='a0'))\n",
    "    fig.add_trace(go.Scatter(y=a_transformed, name='a (transformed)'))\n",
    "    fig.add_annotation(\n",
    "        text=\"Fig. 3. Here a is rescaled to match a0. NOTE: negative alpha flips a.\",\n",
    "        xref=\"paper\", yref=\"paper\",\n",
    "        x=0.5, y=-0.20,\n",
    "        showarrow=False,\n",
    "        font=dict(size=16),\n",
    "    )\n",
    "    fig.show()\n",
    "\n",
    "plot_rescaled(a0, a)\n"
   ]
  },
  {
   "cell_type": "code",
   "execution_count": null,
   "metadata": {
    "executionInfo": {
     "elapsed": 7,
     "status": "ok",
     "timestamp": 1754123218529,
     "user": {
      "displayName": "Stanislav Baranov",
      "userId": "01012316052495130455"
     },
     "user_tz": -180
    },
    "id": "El7KLJ0Fz8EJ"
   },
   "outputs": [],
   "source": [
    "from scipy import signal\n",
    "import random\n",
    "from tqdm import tqdm\n",
    "\n",
    "# Instantiate the optimized PatternSearcher with the 'open' column of the DataFrame\n",
    "searcher = PatternSearcher(df['open'], m)\n",
    "# Set the random seed for reproducibility\n",
    "random.seed(42)\n",
    "correlations = []"
   ]
  },
  {
   "cell_type": "code",
   "execution_count": null,
   "metadata": {
    "colab": {
     "base_uri": "https://localhost:8080/"
    },
    "executionInfo": {
     "elapsed": 72484,
     "status": "ok",
     "timestamp": 1754123291020,
     "user": {
      "displayName": "Stanislav Baranov",
      "userId": "01012316052495130455"
     },
     "user_tz": -180
    },
    "id": "DF5T0musLs3Y",
    "outputId": "5d32f650-e4c8-4d27-e255-ab3f762e6983"
   },
   "outputs": [],
   "source": [
    "N = 100\n",
    "# get correlations for N randomly sampled patterns\n",
    "for _ in tqdm(range(N)):\n",
    "    start_index = random.randrange(0, len(df) - m)\n",
    "    pattern = create_window(df, start_index, m)\n",
    "    correlations.append({\n",
    "        'start_index': start_index,\n",
    "        'top_10k_r': searcher.get_sorted_r(pattern, 10000)\n",
    "    })\n"
   ]
  },
  {
   "cell_type": "code",
   "execution_count": null,
   "metadata": {
    "colab": {
     "base_uri": "https://localhost:8080/",
     "height": 542
    },
    "executionInfo": {
     "elapsed": 23,
     "status": "ok",
     "timestamp": 1754123291034,
     "user": {
      "displayName": "Stanislav Baranov",
      "userId": "01012316052495130455"
     },
     "user_tz": -180
    },
    "id": "1kITkAfUfd3o",
    "outputId": "552d8c51-cd83-4195-e257-c79896e65682"
   },
   "outputs": [],
   "source": [
    "# take slice_point-th correlation in each experiment, sort them, plot\n",
    "slice_point = 9900\n",
    "correlations.sort(key=lambda x: abs(x['top_10k_r'][slice_point][1]), reverse=True)\n",
    "\n",
    "y = []\n",
    "for corr in correlations:\n",
    "    y.append(abs(corr['top_10k_r'][slice_point][1]))\n",
    "\n",
    "fig = go.Figure()\n",
    "fig.add_trace(go.Scatter(y=y, name=f'slice_point-th r values sorted'))\n",
    "fig.show()"
   ]
  },
  {
   "cell_type": "code",
   "execution_count": null,
   "metadata": {
    "colab": {
     "base_uri": "https://localhost:8080/",
     "height": 542
    },
    "executionInfo": {
     "elapsed": 12,
     "status": "ok",
     "timestamp": 1754123291048,
     "user": {
      "displayName": "Stanislav Baranov",
      "userId": "01012316052495130455"
     },
     "user_tz": -180
    },
    "id": "b086be1b",
    "outputId": "0ba2d024-d3cb-486a-9434-85c3bd2edf93"
   },
   "outputs": [],
   "source": [
    "import plotly.express as px\n",
    "\n",
    "# Extract the 1000th correlation value from each experiment\n",
    "y = [abs(corr['top_10k_r'][slice_point][1]) for corr in correlations]\n",
    "\n",
    "# Create the histogram\n",
    "fig = px.histogram(x=y, nbins=40, title='Distribution of the 1000th Correlation Value')\n",
    "fig.update_layout(\n",
    "    xaxis_title=\"Absolute Correlation Value\",\n",
    "    yaxis_title=\"Frequency\",\n",
    ")\n",
    "fig.show()"
   ]
  },
  {
   "cell_type": "code",
   "execution_count": null,
   "metadata": {
    "colab": {
     "base_uri": "https://localhost:8080/",
     "height": 1000
    },
    "executionInfo": {
     "elapsed": 103,
     "status": "ok",
     "timestamp": 1754123291153,
     "user": {
      "displayName": "Stanislav Baranov",
      "userId": "01012316052495130455"
     },
     "user_tz": -180
    },
    "id": "YwGTySVh-b4R",
    "outputId": "1515fbf6-8a50-443b-fa94-51e3b8b654e4"
   },
   "outputs": [],
   "source": [
    "for c in correlations[:2]:\n",
    "  a = create_window(df, c['start_index'], m)\n",
    "  fig = go.Figure()\n",
    "  fig.add_trace(go.Scatter(y=a, name='a'))\n",
    "  fig.show()"
   ]
  },
  {
   "cell_type": "code",
   "execution_count": null,
   "metadata": {
    "colab": {
     "base_uri": "https://localhost:8080/",
     "height": 1000
    },
    "executionInfo": {
     "elapsed": 345,
     "status": "ok",
     "timestamp": 1754123291494,
     "user": {
      "displayName": "Stanislav Baranov",
      "userId": "01012316052495130455"
     },
     "user_tz": -180
    },
    "id": "tLAnWE4RBnOn",
    "outputId": "164ad846-717c-44ed-834f-cc86e07163c5"
   },
   "outputs": [],
   "source": [
    "for c in correlations[1]['top_10k_r'][:10]:\n",
    "  print(c)\n",
    "  a = create_window(df, c[0], m)\n",
    "  fig = go.Figure()\n",
    "  fig.add_trace(go.Scatter(y=a, name='a'))\n",
    "  fig.show()"
   ]
  }
 ],
 "metadata": {
  "colab": {
   "authorship_tag": "ABX9TyMv3Jx1ZMOlYe7MwanOBqQw",
   "provenance": [
    {
     "file_id": "1G0OrWP0ffKRkHB_MjGEeIWPPFdcS4sp_",
     "timestamp": 1753989025804
    }
   ]
  },
  "kernelspec": {
   "display_name": "venv",
   "language": "python",
   "name": "python3"
  },
  "language_info": {
   "codemirror_mode": {
    "name": "ipython",
    "version": 3
   },
   "file_extension": ".py",
   "mimetype": "text/x-python",
   "name": "python",
   "nbconvert_exporter": "python",
   "pygments_lexer": "ipython3",
   "version": "3.12.11"
  }
 },
 "nbformat": 4,
 "nbformat_minor": 0
}
