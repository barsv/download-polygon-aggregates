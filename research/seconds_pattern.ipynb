{
 "cells": [
  {
   "cell_type": "code",
   "execution_count": 1,
   "metadata": {},
   "outputs": [],
   "source": [
    "#!pip install --upgrade pip\n",
    "#!pip install pandas pyarrow scipy"
   ]
  },
  {
   "cell_type": "code",
   "execution_count": 2,
   "metadata": {},
   "outputs": [],
   "source": [
    "import os\n",
    "import requests\n",
    "from tqdm import tqdm\n",
    "import pandas as pd\n",
    "import plotly.express as px\n",
    "\n",
    "from data_downloader import download, get_filename\n",
    "from pattern_analysis import get_alpha_lambda, get_rmse, create_window\n",
    "from pattern_searcher import PatternSearcher"
   ]
  },
  {
   "cell_type": "code",
   "execution_count": 3,
   "metadata": {
    "colab": {
     "base_uri": "https://localhost:8080/"
    },
    "executionInfo": {
     "elapsed": 52909,
     "status": "ok",
     "timestamp": 1754123207798,
     "user": {
      "displayName": "Stanislav Baranov",
      "userId": "01012316052495130455"
     },
     "user_tz": -180
    },
    "id": "ws9nB8H15SW3",
    "outputId": "f59ba7f0-5988-4cd2-83c2-6ec0765d2272"
   },
   "outputs": [],
   "source": [
    "ticker = 'AAPL'\n",
    "interval = '5s'\n",
    "year = '2024'\n",
    "m = 60 # window size"
   ]
  },
  {
   "cell_type": "code",
   "execution_count": 4,
   "metadata": {},
   "outputs": [
    {
     "name": "stdout",
     "output_type": "stream",
     "text": [
      "Total bars: 1428355 (1,428,355)\n"
     ]
    }
   ],
   "source": [
    "filename = get_filename(ticker, interval, year)\n",
    "# If file doesn't exist, then download it.\n",
    "if not os.path.exists(filename):\n",
    "\tdownload(ticker, interval, year)\n",
    "\n",
    "filename = get_filename(ticker, interval, year)\n",
    "df = pd.read_parquet(filename)\n",
    "\n",
    "# fig = px.line(df[-1000:], y='open', title=f'{ticker} Open Prices')\n",
    "# fig.show()\n",
    "\n",
    "total_bars = df.shape[0]\n",
    "print(f'Total bars: {total_bars} ({total_bars:,})')"
   ]
  },
  {
   "cell_type": "code",
   "execution_count": 5,
   "metadata": {
    "executionInfo": {
     "elapsed": 4,
     "status": "ok",
     "timestamp": 1754123215218,
     "user": {
      "displayName": "Stanislav Baranov",
      "userId": "01012316052495130455"
     },
     "user_tz": -180
    },
    "id": "a2zYq5MJ8iZM"
   },
   "outputs": [],
   "source": [
    "a0 = create_window(df, 42, m)\n",
    "a = create_window(df, 285070, m)"
   ]
  },
  {
   "cell_type": "code",
   "execution_count": 6,
   "metadata": {
    "colab": {
     "base_uri": "https://localhost:8080/",
     "height": 542
    },
    "executionInfo": {
     "elapsed": 64,
     "status": "ok",
     "timestamp": 1754123215279,
     "user": {
      "displayName": "Stanislav Baranov",
      "userId": "01012316052495130455"
     },
     "user_tz": -180
    },
    "id": "UdiYY_cNAsK6",
    "outputId": "23b023fe-ebe8-4259-e78a-23070135e769"
   },
   "outputs": [
    {
     "data": {
      "application/vnd.plotly.v1+json": {
       "config": {
        "plotlyServerURL": "https://plot.ly"
       },
       "data": [
        {
         "name": "a0",
         "type": "scatter",
         "xaxis": "x",
         "y": {
          "bdata": "AAAAQAq/Z0AAAACAFL5nQAAAAGBmvmdAAAAAoHC9Z0AAAADAHr1nQAAAAEAKv2dAAAAAQAq/Z0AAAABACr9nQAAAAEAKv2dAAAAAIK6/Z0AAAAAAAMBnQAAAAMD1wGdAAAAAoJnBZ0AAAABAM8NnQAAAACCFw2dAAAAAQOHCZ0AAAABAM8NnQAAAACCFw2dAAAAAQDPDZ0AAAABAM8NnQAAAAGCPwmdAAAAAgD3CZ0AAAACgmcFnQAAAAIA9wmdAAAAAoJnBZ0AAAACA68FnQAAAAEDhwmdAAAAAgD3CZ0AAAABgj8JnQAAAAOCjwGdAAAAAAADAZ0AAAAAgrr9nQAAAAGC4vmdAAAAAwMy8Z0AAAAAAKbxnQAAAAOB6vGdAAAAAwB69Z0AAAADAzLxnQAAAAMDMvGdAAAAA4Hq8Z0AAAADgerxnQAAAAGBmvmdAAAAAAADAZ0AAAAAAAMBnQAAAAAAAwGdAAAAAAADAZ0AAAADgo8BnQAAAAKCZwWdAAAAAYI/CZ0AAAABAM8NnQAAAAEDhwmdAAAAAQDPDZ0AAAABA4cJnQAAAAEAzw2dAAAAAANfDZ0AAAADAzMRnQAAAAMDMxGdAAAAAwMzEZ0AAAACAFMZnQAAAAGBmxmdA",
          "dtype": "f8"
         },
         "yaxis": "y"
        },
        {
         "name": "a",
         "type": "scatter",
         "xaxis": "x",
         "y": {
          "bdata": "AAAAwPWsZUAAAACAwq1lQAAAAIAUrmVAAAAAoHCtZUAAAAAgl61lQAAAAKCZrWVAAAAAACmsZUAAAAAAw6xlQAAAAAAprGVAAAAA4FGsZUAAAACAFK5lQAAAAIA9rmVAAAAAQAqvZUAAAADg0K5lQAAAAGCGrmVAAAAAgBSuZUAAAABgw61lQAAAAIAUrmVAAAAAYKquZUAAAABgj65lQAAAAEDhrmVAAAAAgOmuZUAAAABgvK5lQAAAAEAKr2VAAAAAIP2uZUAAAADg4K1lQAAAAEBZrmVAAAAAQDOvZUAAAABACq9lQAAAAOD5rmVAAAAAgJeuZUAAAABACq9lQAAAACBcr2VAAAAAwMywZUAAAAAAk7FlQAAAAEDhsmVAAAAAQCOyZUAAAACAPbJlQAAAACCFs2VAAAAAQCO0ZUAAAADgo7RlQAAAAKBHtWVAAAAAoEe1ZUAAAACAFLZlQAAAACBct2VAAAAAYIa2ZUAAAACAPbZlQAAAAGBmtmVAAAAAYLi2ZUAAAAAA17dlQAAAACCut2VAAAAAIK63ZUAAAAAAALhlQAAAAOBRuGVAAAAA4FG4ZUAAAAAAKbhlQAAAAMD1uGVAAAAAgMK5ZUAAAACgmbllQAAAAAAAumVA",
          "dtype": "f8"
         },
         "yaxis": "y"
        },
        {
         "name": "a0",
         "type": "scatter",
         "xaxis": "x2",
         "y": {
          "bdata": "AAAAQAq/Z0AAAACAFL5nQAAAAGBmvmdAAAAAoHC9Z0AAAADAHr1nQAAAAEAKv2dAAAAAQAq/Z0AAAABACr9nQAAAAEAKv2dAAAAAIK6/Z0AAAAAAAMBnQAAAAMD1wGdAAAAAoJnBZ0AAAABAM8NnQAAAACCFw2dAAAAAQOHCZ0AAAABAM8NnQAAAACCFw2dAAAAAQDPDZ0AAAABAM8NnQAAAAGCPwmdAAAAAgD3CZ0AAAACgmcFnQAAAAIA9wmdAAAAAoJnBZ0AAAACA68FnQAAAAEDhwmdAAAAAgD3CZ0AAAABgj8JnQAAAAOCjwGdAAAAAAADAZ0AAAAAgrr9nQAAAAGC4vmdAAAAAwMy8Z0AAAAAAKbxnQAAAAOB6vGdAAAAAwB69Z0AAAADAzLxnQAAAAMDMvGdAAAAA4Hq8Z0AAAADgerxnQAAAAGBmvmdAAAAAAADAZ0AAAAAAAMBnQAAAAAAAwGdAAAAAAADAZ0AAAADgo8BnQAAAAKCZwWdAAAAAYI/CZ0AAAABAM8NnQAAAAEDhwmdAAAAAQDPDZ0AAAABA4cJnQAAAAEAzw2dAAAAAANfDZ0AAAADAzMRnQAAAAMDMxGdAAAAAwMzEZ0AAAACAFMZnQAAAAGBmxmdA",
          "dtype": "f8"
         },
         "yaxis": "y2"
        },
        {
         "name": "a",
         "type": "scatter",
         "xaxis": "x3",
         "y": {
          "bdata": "AAAAwPWsZUAAAACAwq1lQAAAAIAUrmVAAAAAoHCtZUAAAAAgl61lQAAAAKCZrWVAAAAAACmsZUAAAAAAw6xlQAAAAAAprGVAAAAA4FGsZUAAAACAFK5lQAAAAIA9rmVAAAAAQAqvZUAAAADg0K5lQAAAAGCGrmVAAAAAgBSuZUAAAABgw61lQAAAAIAUrmVAAAAAYKquZUAAAABgj65lQAAAAEDhrmVAAAAAgOmuZUAAAABgvK5lQAAAAEAKr2VAAAAAIP2uZUAAAADg4K1lQAAAAEBZrmVAAAAAQDOvZUAAAABACq9lQAAAAOD5rmVAAAAAgJeuZUAAAABACq9lQAAAACBcr2VAAAAAwMywZUAAAAAAk7FlQAAAAEDhsmVAAAAAQCOyZUAAAACAPbJlQAAAACCFs2VAAAAAQCO0ZUAAAADgo7RlQAAAAKBHtWVAAAAAoEe1ZUAAAACAFLZlQAAAACBct2VAAAAAYIa2ZUAAAACAPbZlQAAAAGBmtmVAAAAAYLi2ZUAAAAAA17dlQAAAACCut2VAAAAAIK63ZUAAAAAAALhlQAAAAOBRuGVAAAAA4FG4ZUAAAAAAKbhlQAAAAMD1uGVAAAAAgMK5ZUAAAACgmbllQAAAAAAAumVA",
          "dtype": "f8"
         },
         "yaxis": "y3"
        }
       ],
       "layout": {
        "annotations": [
         {
          "font": {
           "size": 16
          },
          "showarrow": false,
          "text": "Shared Y-axis",
          "x": 0.225,
          "xanchor": "center",
          "xref": "paper",
          "y": 1,
          "yanchor": "bottom",
          "yref": "paper"
         },
         {
          "font": {
           "size": 16
          },
          "showarrow": false,
          "text": "a0 (Separate Y-axis)",
          "x": 0.775,
          "xanchor": "center",
          "xref": "paper",
          "y": 1,
          "yanchor": "bottom",
          "yref": "paper"
         },
         {
          "font": {
           "size": 16
          },
          "showarrow": false,
          "text": "a (Separate Y-axis)",
          "x": 0.775,
          "xanchor": "center",
          "xref": "paper",
          "y": 0.375,
          "yanchor": "bottom",
          "yref": "paper"
         },
         {
          "font": {
           "size": 16
          },
          "showarrow": false,
          "text": "Fig. 1. Here a and a0 are plotted on the same Y scale.",
          "x": 0,
          "xref": "paper",
          "y": -0.2,
          "yref": "paper"
         },
         {
          "font": {
           "size": 16
          },
          "showarrow": false,
          "text": "Fig. 2. Here a and a0 are plotted each on it's own Y scale.",
          "x": 0.8,
          "xref": "paper",
          "y": -0.2,
          "yref": "paper"
         }
        ],
        "margin": {
         "b": 100
        },
        "template": {
         "data": {
          "bar": [
           {
            "error_x": {
             "color": "#2a3f5f"
            },
            "error_y": {
             "color": "#2a3f5f"
            },
            "marker": {
             "line": {
              "color": "#E5ECF6",
              "width": 0.5
             },
             "pattern": {
              "fillmode": "overlay",
              "size": 10,
              "solidity": 0.2
             }
            },
            "type": "bar"
           }
          ],
          "barpolar": [
           {
            "marker": {
             "line": {
              "color": "#E5ECF6",
              "width": 0.5
             },
             "pattern": {
              "fillmode": "overlay",
              "size": 10,
              "solidity": 0.2
             }
            },
            "type": "barpolar"
           }
          ],
          "carpet": [
           {
            "aaxis": {
             "endlinecolor": "#2a3f5f",
             "gridcolor": "white",
             "linecolor": "white",
             "minorgridcolor": "white",
             "startlinecolor": "#2a3f5f"
            },
            "baxis": {
             "endlinecolor": "#2a3f5f",
             "gridcolor": "white",
             "linecolor": "white",
             "minorgridcolor": "white",
             "startlinecolor": "#2a3f5f"
            },
            "type": "carpet"
           }
          ],
          "choropleth": [
           {
            "colorbar": {
             "outlinewidth": 0,
             "ticks": ""
            },
            "type": "choropleth"
           }
          ],
          "contour": [
           {
            "colorbar": {
             "outlinewidth": 0,
             "ticks": ""
            },
            "colorscale": [
             [
              0,
              "#0d0887"
             ],
             [
              0.1111111111111111,
              "#46039f"
             ],
             [
              0.2222222222222222,
              "#7201a8"
             ],
             [
              0.3333333333333333,
              "#9c179e"
             ],
             [
              0.4444444444444444,
              "#bd3786"
             ],
             [
              0.5555555555555556,
              "#d8576b"
             ],
             [
              0.6666666666666666,
              "#ed7953"
             ],
             [
              0.7777777777777778,
              "#fb9f3a"
             ],
             [
              0.8888888888888888,
              "#fdca26"
             ],
             [
              1,
              "#f0f921"
             ]
            ],
            "type": "contour"
           }
          ],
          "contourcarpet": [
           {
            "colorbar": {
             "outlinewidth": 0,
             "ticks": ""
            },
            "type": "contourcarpet"
           }
          ],
          "heatmap": [
           {
            "colorbar": {
             "outlinewidth": 0,
             "ticks": ""
            },
            "colorscale": [
             [
              0,
              "#0d0887"
             ],
             [
              0.1111111111111111,
              "#46039f"
             ],
             [
              0.2222222222222222,
              "#7201a8"
             ],
             [
              0.3333333333333333,
              "#9c179e"
             ],
             [
              0.4444444444444444,
              "#bd3786"
             ],
             [
              0.5555555555555556,
              "#d8576b"
             ],
             [
              0.6666666666666666,
              "#ed7953"
             ],
             [
              0.7777777777777778,
              "#fb9f3a"
             ],
             [
              0.8888888888888888,
              "#fdca26"
             ],
             [
              1,
              "#f0f921"
             ]
            ],
            "type": "heatmap"
           }
          ],
          "histogram": [
           {
            "marker": {
             "pattern": {
              "fillmode": "overlay",
              "size": 10,
              "solidity": 0.2
             }
            },
            "type": "histogram"
           }
          ],
          "histogram2d": [
           {
            "colorbar": {
             "outlinewidth": 0,
             "ticks": ""
            },
            "colorscale": [
             [
              0,
              "#0d0887"
             ],
             [
              0.1111111111111111,
              "#46039f"
             ],
             [
              0.2222222222222222,
              "#7201a8"
             ],
             [
              0.3333333333333333,
              "#9c179e"
             ],
             [
              0.4444444444444444,
              "#bd3786"
             ],
             [
              0.5555555555555556,
              "#d8576b"
             ],
             [
              0.6666666666666666,
              "#ed7953"
             ],
             [
              0.7777777777777778,
              "#fb9f3a"
             ],
             [
              0.8888888888888888,
              "#fdca26"
             ],
             [
              1,
              "#f0f921"
             ]
            ],
            "type": "histogram2d"
           }
          ],
          "histogram2dcontour": [
           {
            "colorbar": {
             "outlinewidth": 0,
             "ticks": ""
            },
            "colorscale": [
             [
              0,
              "#0d0887"
             ],
             [
              0.1111111111111111,
              "#46039f"
             ],
             [
              0.2222222222222222,
              "#7201a8"
             ],
             [
              0.3333333333333333,
              "#9c179e"
             ],
             [
              0.4444444444444444,
              "#bd3786"
             ],
             [
              0.5555555555555556,
              "#d8576b"
             ],
             [
              0.6666666666666666,
              "#ed7953"
             ],
             [
              0.7777777777777778,
              "#fb9f3a"
             ],
             [
              0.8888888888888888,
              "#fdca26"
             ],
             [
              1,
              "#f0f921"
             ]
            ],
            "type": "histogram2dcontour"
           }
          ],
          "mesh3d": [
           {
            "colorbar": {
             "outlinewidth": 0,
             "ticks": ""
            },
            "type": "mesh3d"
           }
          ],
          "parcoords": [
           {
            "line": {
             "colorbar": {
              "outlinewidth": 0,
              "ticks": ""
             }
            },
            "type": "parcoords"
           }
          ],
          "pie": [
           {
            "automargin": true,
            "type": "pie"
           }
          ],
          "scatter": [
           {
            "fillpattern": {
             "fillmode": "overlay",
             "size": 10,
             "solidity": 0.2
            },
            "type": "scatter"
           }
          ],
          "scatter3d": [
           {
            "line": {
             "colorbar": {
              "outlinewidth": 0,
              "ticks": ""
             }
            },
            "marker": {
             "colorbar": {
              "outlinewidth": 0,
              "ticks": ""
             }
            },
            "type": "scatter3d"
           }
          ],
          "scattercarpet": [
           {
            "marker": {
             "colorbar": {
              "outlinewidth": 0,
              "ticks": ""
             }
            },
            "type": "scattercarpet"
           }
          ],
          "scattergeo": [
           {
            "marker": {
             "colorbar": {
              "outlinewidth": 0,
              "ticks": ""
             }
            },
            "type": "scattergeo"
           }
          ],
          "scattergl": [
           {
            "marker": {
             "colorbar": {
              "outlinewidth": 0,
              "ticks": ""
             }
            },
            "type": "scattergl"
           }
          ],
          "scattermap": [
           {
            "marker": {
             "colorbar": {
              "outlinewidth": 0,
              "ticks": ""
             }
            },
            "type": "scattermap"
           }
          ],
          "scattermapbox": [
           {
            "marker": {
             "colorbar": {
              "outlinewidth": 0,
              "ticks": ""
             }
            },
            "type": "scattermapbox"
           }
          ],
          "scatterpolar": [
           {
            "marker": {
             "colorbar": {
              "outlinewidth": 0,
              "ticks": ""
             }
            },
            "type": "scatterpolar"
           }
          ],
          "scatterpolargl": [
           {
            "marker": {
             "colorbar": {
              "outlinewidth": 0,
              "ticks": ""
             }
            },
            "type": "scatterpolargl"
           }
          ],
          "scatterternary": [
           {
            "marker": {
             "colorbar": {
              "outlinewidth": 0,
              "ticks": ""
             }
            },
            "type": "scatterternary"
           }
          ],
          "surface": [
           {
            "colorbar": {
             "outlinewidth": 0,
             "ticks": ""
            },
            "colorscale": [
             [
              0,
              "#0d0887"
             ],
             [
              0.1111111111111111,
              "#46039f"
             ],
             [
              0.2222222222222222,
              "#7201a8"
             ],
             [
              0.3333333333333333,
              "#9c179e"
             ],
             [
              0.4444444444444444,
              "#bd3786"
             ],
             [
              0.5555555555555556,
              "#d8576b"
             ],
             [
              0.6666666666666666,
              "#ed7953"
             ],
             [
              0.7777777777777778,
              "#fb9f3a"
             ],
             [
              0.8888888888888888,
              "#fdca26"
             ],
             [
              1,
              "#f0f921"
             ]
            ],
            "type": "surface"
           }
          ],
          "table": [
           {
            "cells": {
             "fill": {
              "color": "#EBF0F8"
             },
             "line": {
              "color": "white"
             }
            },
            "header": {
             "fill": {
              "color": "#C8D4E3"
             },
             "line": {
              "color": "white"
             }
            },
            "type": "table"
           }
          ]
         },
         "layout": {
          "annotationdefaults": {
           "arrowcolor": "#2a3f5f",
           "arrowhead": 0,
           "arrowwidth": 1
          },
          "autotypenumbers": "strict",
          "coloraxis": {
           "colorbar": {
            "outlinewidth": 0,
            "ticks": ""
           }
          },
          "colorscale": {
           "diverging": [
            [
             0,
             "#8e0152"
            ],
            [
             0.1,
             "#c51b7d"
            ],
            [
             0.2,
             "#de77ae"
            ],
            [
             0.3,
             "#f1b6da"
            ],
            [
             0.4,
             "#fde0ef"
            ],
            [
             0.5,
             "#f7f7f7"
            ],
            [
             0.6,
             "#e6f5d0"
            ],
            [
             0.7,
             "#b8e186"
            ],
            [
             0.8,
             "#7fbc41"
            ],
            [
             0.9,
             "#4d9221"
            ],
            [
             1,
             "#276419"
            ]
           ],
           "sequential": [
            [
             0,
             "#0d0887"
            ],
            [
             0.1111111111111111,
             "#46039f"
            ],
            [
             0.2222222222222222,
             "#7201a8"
            ],
            [
             0.3333333333333333,
             "#9c179e"
            ],
            [
             0.4444444444444444,
             "#bd3786"
            ],
            [
             0.5555555555555556,
             "#d8576b"
            ],
            [
             0.6666666666666666,
             "#ed7953"
            ],
            [
             0.7777777777777778,
             "#fb9f3a"
            ],
            [
             0.8888888888888888,
             "#fdca26"
            ],
            [
             1,
             "#f0f921"
            ]
           ],
           "sequentialminus": [
            [
             0,
             "#0d0887"
            ],
            [
             0.1111111111111111,
             "#46039f"
            ],
            [
             0.2222222222222222,
             "#7201a8"
            ],
            [
             0.3333333333333333,
             "#9c179e"
            ],
            [
             0.4444444444444444,
             "#bd3786"
            ],
            [
             0.5555555555555556,
             "#d8576b"
            ],
            [
             0.6666666666666666,
             "#ed7953"
            ],
            [
             0.7777777777777778,
             "#fb9f3a"
            ],
            [
             0.8888888888888888,
             "#fdca26"
            ],
            [
             1,
             "#f0f921"
            ]
           ]
          },
          "colorway": [
           "#636efa",
           "#EF553B",
           "#00cc96",
           "#ab63fa",
           "#FFA15A",
           "#19d3f3",
           "#FF6692",
           "#B6E880",
           "#FF97FF",
           "#FECB52"
          ],
          "font": {
           "color": "#2a3f5f"
          },
          "geo": {
           "bgcolor": "white",
           "lakecolor": "white",
           "landcolor": "#E5ECF6",
           "showlakes": true,
           "showland": true,
           "subunitcolor": "white"
          },
          "hoverlabel": {
           "align": "left"
          },
          "hovermode": "closest",
          "mapbox": {
           "style": "light"
          },
          "paper_bgcolor": "white",
          "plot_bgcolor": "#E5ECF6",
          "polar": {
           "angularaxis": {
            "gridcolor": "white",
            "linecolor": "white",
            "ticks": ""
           },
           "bgcolor": "#E5ECF6",
           "radialaxis": {
            "gridcolor": "white",
            "linecolor": "white",
            "ticks": ""
           }
          },
          "scene": {
           "xaxis": {
            "backgroundcolor": "#E5ECF6",
            "gridcolor": "white",
            "gridwidth": 2,
            "linecolor": "white",
            "showbackground": true,
            "ticks": "",
            "zerolinecolor": "white"
           },
           "yaxis": {
            "backgroundcolor": "#E5ECF6",
            "gridcolor": "white",
            "gridwidth": 2,
            "linecolor": "white",
            "showbackground": true,
            "ticks": "",
            "zerolinecolor": "white"
           },
           "zaxis": {
            "backgroundcolor": "#E5ECF6",
            "gridcolor": "white",
            "gridwidth": 2,
            "linecolor": "white",
            "showbackground": true,
            "ticks": "",
            "zerolinecolor": "white"
           }
          },
          "shapedefaults": {
           "line": {
            "color": "#2a3f5f"
           }
          },
          "ternary": {
           "aaxis": {
            "gridcolor": "white",
            "linecolor": "white",
            "ticks": ""
           },
           "baxis": {
            "gridcolor": "white",
            "linecolor": "white",
            "ticks": ""
           },
           "bgcolor": "#E5ECF6",
           "caxis": {
            "gridcolor": "white",
            "linecolor": "white",
            "ticks": ""
           }
          },
          "title": {
           "x": 0.05
          },
          "xaxis": {
           "automargin": true,
           "gridcolor": "white",
           "linecolor": "white",
           "ticks": "",
           "title": {
            "standoff": 15
           },
           "zerolinecolor": "white",
           "zerolinewidth": 2
          },
          "yaxis": {
           "automargin": true,
           "gridcolor": "white",
           "linecolor": "white",
           "ticks": "",
           "title": {
            "standoff": 15
           },
           "zerolinecolor": "white",
           "zerolinewidth": 2
          }
         }
        },
        "xaxis": {
         "anchor": "y",
         "domain": [
          0,
          0.45
         ]
        },
        "xaxis2": {
         "anchor": "y2",
         "domain": [
          0.55,
          1
         ]
        },
        "xaxis3": {
         "anchor": "y3",
         "domain": [
          0.55,
          1
         ]
        },
        "yaxis": {
         "anchor": "x",
         "domain": [
          0,
          1
         ]
        },
        "yaxis2": {
         "anchor": "x2",
         "domain": [
          0.625,
          1
         ]
        },
        "yaxis3": {
         "anchor": "x3",
         "domain": [
          0,
          0.375
         ]
        }
       }
      }
     },
     "metadata": {},
     "output_type": "display_data"
    }
   ],
   "source": [
    "# plot the original data without re-scalling.\n",
    "\n",
    "import plotly.graph_objects as go\n",
    "from plotly.subplots import make_subplots\n",
    "\n",
    "# Create subplots\n",
    "fig = make_subplots(\n",
    "    rows=2, cols=2,\n",
    "    specs=[[{\"rowspan\": 2}, {\"rowspan\": 1}],\n",
    "           [None, {}]],\n",
    "    subplot_titles=(\"Shared Y-axis\", \"a0 (Separate Y-axis)\", \"a (Separate Y-axis)\")\n",
    ")\n",
    "\n",
    "# Plot on the left (shared y-axis)\n",
    "fig.add_trace(go.Scatter(y=a0, name='a0'), row=1, col=1)\n",
    "fig.add_trace(go.Scatter(y=a, name='a'), row=1, col=1)\n",
    "\n",
    "# Plot on the right (separate y-axes)\n",
    "fig.add_trace(go.Scatter(y=a0, name='a0'), row=1, col=2)\n",
    "fig.add_trace(go.Scatter(y=a, name='a'), row=2, col=2)\n",
    "\n",
    "fig.update_layout(margin=dict(b=100))  # Увеличь отступ снизу\n",
    "\n",
    "fig.add_annotation(\n",
    "    text=\"Fig. 1. Here a and a0 are plotted on the same Y scale.\",\n",
    "    xref=\"paper\", yref=\"paper\",\n",
    "    x=0, y=-0.20,\n",
    "    showarrow=False,\n",
    "    font=dict(size=16),\n",
    ")\n",
    "\n",
    "fig.add_annotation(\n",
    "    text=\"Fig. 2. Here a and a0 are plotted each on it's own Y scale.\",\n",
    "    xref=\"paper\", yref=\"paper\",\n",
    "    x=0.8, y=-0.20,\n",
    "    showarrow=False,\n",
    "    font=dict(size=16),\n",
    ")\n",
    "fig.show()"
   ]
  },
  {
   "cell_type": "code",
   "execution_count": 7,
   "metadata": {
    "colab": {
     "base_uri": "https://localhost:8080/",
     "height": 577
    },
    "executionInfo": {
     "elapsed": 41,
     "status": "ok",
     "timestamp": 1754123215343,
     "user": {
      "displayName": "Stanislav Baranov",
      "userId": "01012316052495130455"
     },
     "user_tz": -180
    },
    "id": "mN2q786W3llK",
    "outputId": "4ca9a1d5-fb4c-45e1-a142-d3d3e7d1ae48"
   },
   "outputs": [
    {
     "name": "stdout",
     "output_type": "stream",
     "text": [
      "alpha = 0.2034997746541522\n",
      "lambda = 154.70890889332452\n"
     ]
    },
    {
     "data": {
      "application/vnd.plotly.v1+json": {
       "config": {
        "plotlyServerURL": "https://plot.ly"
       },
       "data": [
        {
         "name": "a0",
         "type": "scatter",
         "y": {
          "bdata": "AAAAQAq/Z0AAAACAFL5nQAAAAGBmvmdAAAAAoHC9Z0AAAADAHr1nQAAAAEAKv2dAAAAAQAq/Z0AAAABACr9nQAAAAEAKv2dAAAAAIK6/Z0AAAAAAAMBnQAAAAMD1wGdAAAAAoJnBZ0AAAABAM8NnQAAAACCFw2dAAAAAQOHCZ0AAAABAM8NnQAAAACCFw2dAAAAAQDPDZ0AAAABAM8NnQAAAAGCPwmdAAAAAgD3CZ0AAAACgmcFnQAAAAIA9wmdAAAAAoJnBZ0AAAACA68FnQAAAAEDhwmdAAAAAgD3CZ0AAAABgj8JnQAAAAOCjwGdAAAAAAADAZ0AAAAAgrr9nQAAAAGC4vmdAAAAAwMy8Z0AAAAAAKbxnQAAAAOB6vGdAAAAAwB69Z0AAAADAzLxnQAAAAMDMvGdAAAAA4Hq8Z0AAAADgerxnQAAAAGBmvmdAAAAAAADAZ0AAAAAAAMBnQAAAAAAAwGdAAAAAAADAZ0AAAADgo8BnQAAAAKCZwWdAAAAAYI/CZ0AAAABAM8NnQAAAAEDhwmdAAAAAQDPDZ0AAAABA4cJnQAAAAEAzw2dAAAAAANfDZ0AAAADAzMRnQAAAAMDMxGdAAAAAwMzEZ0AAAACAFMZnQAAAAGBmxmdA",
          "dtype": "f8"
         }
        },
        {
         "name": "a (transformed)",
         "type": "scatter",
         "y": {
          "bdata": "WrT+reW/Z0DgnaNYD8BnQECjgQggwGdAdapIr/6/Z0D1RfqEBsBnQCWtNwcHwGdA1MpZA7y/Z0DUOCBa279nQNTKWQO8v2dAj7vFVMS/Z0BAo4EIIMBnQPClcGAowGdAdo8VC1LAZ0AXXBReRsBnQEeM7jQ3wGdAQKOBCCDAZ0CXGzmGD8BnQECjgQggwGdAl8BiiD7AZ0BbmcsJOcBnQMaMJrNJwGdAGC7xYEvAZ0C/2hwyQsBnQHaPFQtSwGdAuTFTX0/AZ0ADqg2HFcBnQO44GgYuwGdAJpIEY1rAZ0B2jxULUsBnQMdeA7ZOwGdAuCgTsTrAZ0B2jxULUsBnQOGCcLRiwGdAMmVOuK3AZ0DUqFMQ1sBnQE5AZRUawWdA/p0qa/PAZ0B5Wa/C+MBnQBo5nm47wWdAwvdJnFvBZ0AAKCHJdcFnQNUO1xuXwWdA1Q7XG5fBZ0BQCv/MwMFnQPHp7XgDwmdAWPNr+dfBZ0ABDe4kycFnQLz9WXbRwWdAHAM4JuLBZ0AM4Dd6HMJnQFLvyygUwmdAUu/LKBTCZ0C84ibSJMJnQCfWgXs1wmdAJ9aBezXCZ0Bt5RUqLcJnQPLOutRWwmdAeLhff4DCZ0C+x/MteMJnQIE8RgONwmdA",
          "dtype": "f8"
         }
        }
       ],
       "layout": {
        "annotations": [
         {
          "font": {
           "size": 16
          },
          "showarrow": false,
          "text": "Fig. 3. Here a is rescaled to match a0. NOTE: negative alpha flips a.",
          "x": 0.5,
          "xref": "paper",
          "y": -0.2,
          "yref": "paper"
         }
        ],
        "template": {
         "data": {
          "bar": [
           {
            "error_x": {
             "color": "#2a3f5f"
            },
            "error_y": {
             "color": "#2a3f5f"
            },
            "marker": {
             "line": {
              "color": "#E5ECF6",
              "width": 0.5
             },
             "pattern": {
              "fillmode": "overlay",
              "size": 10,
              "solidity": 0.2
             }
            },
            "type": "bar"
           }
          ],
          "barpolar": [
           {
            "marker": {
             "line": {
              "color": "#E5ECF6",
              "width": 0.5
             },
             "pattern": {
              "fillmode": "overlay",
              "size": 10,
              "solidity": 0.2
             }
            },
            "type": "barpolar"
           }
          ],
          "carpet": [
           {
            "aaxis": {
             "endlinecolor": "#2a3f5f",
             "gridcolor": "white",
             "linecolor": "white",
             "minorgridcolor": "white",
             "startlinecolor": "#2a3f5f"
            },
            "baxis": {
             "endlinecolor": "#2a3f5f",
             "gridcolor": "white",
             "linecolor": "white",
             "minorgridcolor": "white",
             "startlinecolor": "#2a3f5f"
            },
            "type": "carpet"
           }
          ],
          "choropleth": [
           {
            "colorbar": {
             "outlinewidth": 0,
             "ticks": ""
            },
            "type": "choropleth"
           }
          ],
          "contour": [
           {
            "colorbar": {
             "outlinewidth": 0,
             "ticks": ""
            },
            "colorscale": [
             [
              0,
              "#0d0887"
             ],
             [
              0.1111111111111111,
              "#46039f"
             ],
             [
              0.2222222222222222,
              "#7201a8"
             ],
             [
              0.3333333333333333,
              "#9c179e"
             ],
             [
              0.4444444444444444,
              "#bd3786"
             ],
             [
              0.5555555555555556,
              "#d8576b"
             ],
             [
              0.6666666666666666,
              "#ed7953"
             ],
             [
              0.7777777777777778,
              "#fb9f3a"
             ],
             [
              0.8888888888888888,
              "#fdca26"
             ],
             [
              1,
              "#f0f921"
             ]
            ],
            "type": "contour"
           }
          ],
          "contourcarpet": [
           {
            "colorbar": {
             "outlinewidth": 0,
             "ticks": ""
            },
            "type": "contourcarpet"
           }
          ],
          "heatmap": [
           {
            "colorbar": {
             "outlinewidth": 0,
             "ticks": ""
            },
            "colorscale": [
             [
              0,
              "#0d0887"
             ],
             [
              0.1111111111111111,
              "#46039f"
             ],
             [
              0.2222222222222222,
              "#7201a8"
             ],
             [
              0.3333333333333333,
              "#9c179e"
             ],
             [
              0.4444444444444444,
              "#bd3786"
             ],
             [
              0.5555555555555556,
              "#d8576b"
             ],
             [
              0.6666666666666666,
              "#ed7953"
             ],
             [
              0.7777777777777778,
              "#fb9f3a"
             ],
             [
              0.8888888888888888,
              "#fdca26"
             ],
             [
              1,
              "#f0f921"
             ]
            ],
            "type": "heatmap"
           }
          ],
          "histogram": [
           {
            "marker": {
             "pattern": {
              "fillmode": "overlay",
              "size": 10,
              "solidity": 0.2
             }
            },
            "type": "histogram"
           }
          ],
          "histogram2d": [
           {
            "colorbar": {
             "outlinewidth": 0,
             "ticks": ""
            },
            "colorscale": [
             [
              0,
              "#0d0887"
             ],
             [
              0.1111111111111111,
              "#46039f"
             ],
             [
              0.2222222222222222,
              "#7201a8"
             ],
             [
              0.3333333333333333,
              "#9c179e"
             ],
             [
              0.4444444444444444,
              "#bd3786"
             ],
             [
              0.5555555555555556,
              "#d8576b"
             ],
             [
              0.6666666666666666,
              "#ed7953"
             ],
             [
              0.7777777777777778,
              "#fb9f3a"
             ],
             [
              0.8888888888888888,
              "#fdca26"
             ],
             [
              1,
              "#f0f921"
             ]
            ],
            "type": "histogram2d"
           }
          ],
          "histogram2dcontour": [
           {
            "colorbar": {
             "outlinewidth": 0,
             "ticks": ""
            },
            "colorscale": [
             [
              0,
              "#0d0887"
             ],
             [
              0.1111111111111111,
              "#46039f"
             ],
             [
              0.2222222222222222,
              "#7201a8"
             ],
             [
              0.3333333333333333,
              "#9c179e"
             ],
             [
              0.4444444444444444,
              "#bd3786"
             ],
             [
              0.5555555555555556,
              "#d8576b"
             ],
             [
              0.6666666666666666,
              "#ed7953"
             ],
             [
              0.7777777777777778,
              "#fb9f3a"
             ],
             [
              0.8888888888888888,
              "#fdca26"
             ],
             [
              1,
              "#f0f921"
             ]
            ],
            "type": "histogram2dcontour"
           }
          ],
          "mesh3d": [
           {
            "colorbar": {
             "outlinewidth": 0,
             "ticks": ""
            },
            "type": "mesh3d"
           }
          ],
          "parcoords": [
           {
            "line": {
             "colorbar": {
              "outlinewidth": 0,
              "ticks": ""
             }
            },
            "type": "parcoords"
           }
          ],
          "pie": [
           {
            "automargin": true,
            "type": "pie"
           }
          ],
          "scatter": [
           {
            "fillpattern": {
             "fillmode": "overlay",
             "size": 10,
             "solidity": 0.2
            },
            "type": "scatter"
           }
          ],
          "scatter3d": [
           {
            "line": {
             "colorbar": {
              "outlinewidth": 0,
              "ticks": ""
             }
            },
            "marker": {
             "colorbar": {
              "outlinewidth": 0,
              "ticks": ""
             }
            },
            "type": "scatter3d"
           }
          ],
          "scattercarpet": [
           {
            "marker": {
             "colorbar": {
              "outlinewidth": 0,
              "ticks": ""
             }
            },
            "type": "scattercarpet"
           }
          ],
          "scattergeo": [
           {
            "marker": {
             "colorbar": {
              "outlinewidth": 0,
              "ticks": ""
             }
            },
            "type": "scattergeo"
           }
          ],
          "scattergl": [
           {
            "marker": {
             "colorbar": {
              "outlinewidth": 0,
              "ticks": ""
             }
            },
            "type": "scattergl"
           }
          ],
          "scattermap": [
           {
            "marker": {
             "colorbar": {
              "outlinewidth": 0,
              "ticks": ""
             }
            },
            "type": "scattermap"
           }
          ],
          "scattermapbox": [
           {
            "marker": {
             "colorbar": {
              "outlinewidth": 0,
              "ticks": ""
             }
            },
            "type": "scattermapbox"
           }
          ],
          "scatterpolar": [
           {
            "marker": {
             "colorbar": {
              "outlinewidth": 0,
              "ticks": ""
             }
            },
            "type": "scatterpolar"
           }
          ],
          "scatterpolargl": [
           {
            "marker": {
             "colorbar": {
              "outlinewidth": 0,
              "ticks": ""
             }
            },
            "type": "scatterpolargl"
           }
          ],
          "scatterternary": [
           {
            "marker": {
             "colorbar": {
              "outlinewidth": 0,
              "ticks": ""
             }
            },
            "type": "scatterternary"
           }
          ],
          "surface": [
           {
            "colorbar": {
             "outlinewidth": 0,
             "ticks": ""
            },
            "colorscale": [
             [
              0,
              "#0d0887"
             ],
             [
              0.1111111111111111,
              "#46039f"
             ],
             [
              0.2222222222222222,
              "#7201a8"
             ],
             [
              0.3333333333333333,
              "#9c179e"
             ],
             [
              0.4444444444444444,
              "#bd3786"
             ],
             [
              0.5555555555555556,
              "#d8576b"
             ],
             [
              0.6666666666666666,
              "#ed7953"
             ],
             [
              0.7777777777777778,
              "#fb9f3a"
             ],
             [
              0.8888888888888888,
              "#fdca26"
             ],
             [
              1,
              "#f0f921"
             ]
            ],
            "type": "surface"
           }
          ],
          "table": [
           {
            "cells": {
             "fill": {
              "color": "#EBF0F8"
             },
             "line": {
              "color": "white"
             }
            },
            "header": {
             "fill": {
              "color": "#C8D4E3"
             },
             "line": {
              "color": "white"
             }
            },
            "type": "table"
           }
          ]
         },
         "layout": {
          "annotationdefaults": {
           "arrowcolor": "#2a3f5f",
           "arrowhead": 0,
           "arrowwidth": 1
          },
          "autotypenumbers": "strict",
          "coloraxis": {
           "colorbar": {
            "outlinewidth": 0,
            "ticks": ""
           }
          },
          "colorscale": {
           "diverging": [
            [
             0,
             "#8e0152"
            ],
            [
             0.1,
             "#c51b7d"
            ],
            [
             0.2,
             "#de77ae"
            ],
            [
             0.3,
             "#f1b6da"
            ],
            [
             0.4,
             "#fde0ef"
            ],
            [
             0.5,
             "#f7f7f7"
            ],
            [
             0.6,
             "#e6f5d0"
            ],
            [
             0.7,
             "#b8e186"
            ],
            [
             0.8,
             "#7fbc41"
            ],
            [
             0.9,
             "#4d9221"
            ],
            [
             1,
             "#276419"
            ]
           ],
           "sequential": [
            [
             0,
             "#0d0887"
            ],
            [
             0.1111111111111111,
             "#46039f"
            ],
            [
             0.2222222222222222,
             "#7201a8"
            ],
            [
             0.3333333333333333,
             "#9c179e"
            ],
            [
             0.4444444444444444,
             "#bd3786"
            ],
            [
             0.5555555555555556,
             "#d8576b"
            ],
            [
             0.6666666666666666,
             "#ed7953"
            ],
            [
             0.7777777777777778,
             "#fb9f3a"
            ],
            [
             0.8888888888888888,
             "#fdca26"
            ],
            [
             1,
             "#f0f921"
            ]
           ],
           "sequentialminus": [
            [
             0,
             "#0d0887"
            ],
            [
             0.1111111111111111,
             "#46039f"
            ],
            [
             0.2222222222222222,
             "#7201a8"
            ],
            [
             0.3333333333333333,
             "#9c179e"
            ],
            [
             0.4444444444444444,
             "#bd3786"
            ],
            [
             0.5555555555555556,
             "#d8576b"
            ],
            [
             0.6666666666666666,
             "#ed7953"
            ],
            [
             0.7777777777777778,
             "#fb9f3a"
            ],
            [
             0.8888888888888888,
             "#fdca26"
            ],
            [
             1,
             "#f0f921"
            ]
           ]
          },
          "colorway": [
           "#636efa",
           "#EF553B",
           "#00cc96",
           "#ab63fa",
           "#FFA15A",
           "#19d3f3",
           "#FF6692",
           "#B6E880",
           "#FF97FF",
           "#FECB52"
          ],
          "font": {
           "color": "#2a3f5f"
          },
          "geo": {
           "bgcolor": "white",
           "lakecolor": "white",
           "landcolor": "#E5ECF6",
           "showlakes": true,
           "showland": true,
           "subunitcolor": "white"
          },
          "hoverlabel": {
           "align": "left"
          },
          "hovermode": "closest",
          "mapbox": {
           "style": "light"
          },
          "paper_bgcolor": "white",
          "plot_bgcolor": "#E5ECF6",
          "polar": {
           "angularaxis": {
            "gridcolor": "white",
            "linecolor": "white",
            "ticks": ""
           },
           "bgcolor": "#E5ECF6",
           "radialaxis": {
            "gridcolor": "white",
            "linecolor": "white",
            "ticks": ""
           }
          },
          "scene": {
           "xaxis": {
            "backgroundcolor": "#E5ECF6",
            "gridcolor": "white",
            "gridwidth": 2,
            "linecolor": "white",
            "showbackground": true,
            "ticks": "",
            "zerolinecolor": "white"
           },
           "yaxis": {
            "backgroundcolor": "#E5ECF6",
            "gridcolor": "white",
            "gridwidth": 2,
            "linecolor": "white",
            "showbackground": true,
            "ticks": "",
            "zerolinecolor": "white"
           },
           "zaxis": {
            "backgroundcolor": "#E5ECF6",
            "gridcolor": "white",
            "gridwidth": 2,
            "linecolor": "white",
            "showbackground": true,
            "ticks": "",
            "zerolinecolor": "white"
           }
          },
          "shapedefaults": {
           "line": {
            "color": "#2a3f5f"
           }
          },
          "ternary": {
           "aaxis": {
            "gridcolor": "white",
            "linecolor": "white",
            "ticks": ""
           },
           "baxis": {
            "gridcolor": "white",
            "linecolor": "white",
            "ticks": ""
           },
           "bgcolor": "#E5ECF6",
           "caxis": {
            "gridcolor": "white",
            "linecolor": "white",
            "ticks": ""
           }
          },
          "title": {
           "x": 0.05
          },
          "xaxis": {
           "automargin": true,
           "gridcolor": "white",
           "linecolor": "white",
           "ticks": "",
           "title": {
            "standoff": 15
           },
           "zerolinecolor": "white",
           "zerolinewidth": 2
          },
          "yaxis": {
           "automargin": true,
           "gridcolor": "white",
           "linecolor": "white",
           "ticks": "",
           "title": {
            "standoff": 15
           },
           "zerolinecolor": "white",
           "zerolinewidth": 2
          }
         }
        }
       }
      }
     },
     "metadata": {},
     "output_type": "display_data"
    }
   ],
   "source": [
    "# now rescale.\n",
    "\n",
    "import numpy as np\n",
    "\n",
    "def plot_rescaled(a0, a):\n",
    "    alpha, lmbda = get_alpha_lambda(a0, a)\n",
    "    print(f'alpha = {alpha}')\n",
    "    print(f'lambda = {lmbda}')\n",
    "\n",
    "    # Apply the transformation\n",
    "    a_transformed = alpha * a + lmbda\n",
    "\n",
    "    # Plot the original and transformed data\n",
    "    import plotly.graph_objects as go\n",
    "\n",
    "    fig = go.Figure()\n",
    "    fig.add_trace(go.Scatter(y=a0, name='a0'))\n",
    "    fig.add_trace(go.Scatter(y=a_transformed, name='a (transformed)'))\n",
    "    fig.add_annotation(\n",
    "        text=\"Fig. 3. Here a is rescaled to match a0. NOTE: negative alpha flips a.\",\n",
    "        xref=\"paper\", yref=\"paper\",\n",
    "        x=0.5, y=-0.20,\n",
    "        showarrow=False,\n",
    "        font=dict(size=16),\n",
    "    )\n",
    "    fig.show()\n",
    "\n",
    "plot_rescaled(a0, a)\n"
   ]
  },
  {
   "cell_type": "code",
   "execution_count": null,
   "metadata": {
    "executionInfo": {
     "elapsed": 7,
     "status": "ok",
     "timestamp": 1754123218529,
     "user": {
      "displayName": "Stanislav Baranov",
      "userId": "01012316052495130455"
     },
     "user_tz": -180
    },
    "id": "El7KLJ0Fz8EJ"
   },
   "outputs": [],
   "source": [
    "from scipy import signal\n",
    "import random\n",
    "from tqdm import tqdm\n",
    "\n",
    "# Instantiate the optimized PatternSearcher with the 'open' column of the DataFrame\n",
    "searcher = PatternSearcher(df['open'], m)\n",
    "# Set the random seed for reproducibility\n",
    "random.seed(42)\n",
    "correlations = []"
   ]
  },
  {
   "cell_type": "code",
   "execution_count": null,
   "metadata": {
    "colab": {
     "base_uri": "https://localhost:8080/"
    },
    "executionInfo": {
     "elapsed": 72484,
     "status": "ok",
     "timestamp": 1754123291020,
     "user": {
      "displayName": "Stanislav Baranov",
      "userId": "01012316052495130455"
     },
     "user_tz": -180
    },
    "id": "DF5T0musLs3Y",
    "outputId": "5d32f650-e4c8-4d27-e255-ab3f762e6983"
   },
   "outputs": [],
   "source": [
    "N = 100\n",
    "# get correlations for N randomly sampled patterns\n",
    "for _ in tqdm(range(N)):\n",
    "    start_index = random.randrange(0, len(df) - m)\n",
    "    pattern = create_window(df, start_index, m)\n",
    "    correlations.append({\n",
    "        'start_index': start_index,\n",
    "        'top_10k_r': searcher.get_sorted_r(pattern, 10000)\n",
    "    })\n"
   ]
  },
  {
   "cell_type": "code",
   "execution_count": null,
   "metadata": {
    "colab": {
     "base_uri": "https://localhost:8080/",
     "height": 542
    },
    "executionInfo": {
     "elapsed": 23,
     "status": "ok",
     "timestamp": 1754123291034,
     "user": {
      "displayName": "Stanislav Baranov",
      "userId": "01012316052495130455"
     },
     "user_tz": -180
    },
    "id": "1kITkAfUfd3o",
    "outputId": "552d8c51-cd83-4195-e257-c79896e65682"
   },
   "outputs": [],
   "source": [
    "# take slice_point-th correlation in each experiment, sort them, plot\n",
    "slice_point = 9900\n",
    "correlations.sort(key=lambda x: abs(x['top_10k_r'][slice_point][1]), reverse=True)\n",
    "\n",
    "y = []\n",
    "for corr in correlations:\n",
    "    y.append(abs(corr['top_10k_r'][slice_point][1]))\n",
    "\n",
    "fig = go.Figure()\n",
    "fig.add_trace(go.Scatter(y=y, name=f'slice_point-th r values sorted'))\n",
    "fig.show()"
   ]
  },
  {
   "cell_type": "code",
   "execution_count": null,
   "metadata": {
    "colab": {
     "base_uri": "https://localhost:8080/",
     "height": 542
    },
    "executionInfo": {
     "elapsed": 12,
     "status": "ok",
     "timestamp": 1754123291048,
     "user": {
      "displayName": "Stanislav Baranov",
      "userId": "01012316052495130455"
     },
     "user_tz": -180
    },
    "id": "b086be1b",
    "outputId": "0ba2d024-d3cb-486a-9434-85c3bd2edf93"
   },
   "outputs": [],
   "source": [
    "import plotly.express as px\n",
    "\n",
    "# Extract the 1000th correlation value from each experiment\n",
    "y = [abs(corr['top_10k_r'][slice_point][1]) for corr in correlations]\n",
    "\n",
    "# Create the histogram\n",
    "fig = px.histogram(x=y, nbins=40, title='Distribution of the 1000th Correlation Value')\n",
    "fig.update_layout(\n",
    "    xaxis_title=\"Absolute Correlation Value\",\n",
    "    yaxis_title=\"Frequency\",\n",
    ")\n",
    "fig.show()"
   ]
  },
  {
   "cell_type": "code",
   "execution_count": null,
   "metadata": {
    "colab": {
     "base_uri": "https://localhost:8080/",
     "height": 1000
    },
    "executionInfo": {
     "elapsed": 103,
     "status": "ok",
     "timestamp": 1754123291153,
     "user": {
      "displayName": "Stanislav Baranov",
      "userId": "01012316052495130455"
     },
     "user_tz": -180
    },
    "id": "YwGTySVh-b4R",
    "outputId": "1515fbf6-8a50-443b-fa94-51e3b8b654e4"
   },
   "outputs": [],
   "source": [
    "for c in correlations[:2]:\n",
    "  a = create_window(df, c['start_index'], m)\n",
    "  fig = go.Figure()\n",
    "  fig.add_trace(go.Scatter(y=a, name='a'))\n",
    "  fig.show()"
   ]
  },
  {
   "cell_type": "code",
   "execution_count": null,
   "metadata": {
    "colab": {
     "base_uri": "https://localhost:8080/",
     "height": 1000
    },
    "executionInfo": {
     "elapsed": 345,
     "status": "ok",
     "timestamp": 1754123291494,
     "user": {
      "displayName": "Stanislav Baranov",
      "userId": "01012316052495130455"
     },
     "user_tz": -180
    },
    "id": "tLAnWE4RBnOn",
    "outputId": "164ad846-717c-44ed-834f-cc86e07163c5"
   },
   "outputs": [],
   "source": [
    "for c in correlations[1]['top_10k_r'][:10]:\n",
    "  print(c)\n",
    "  a = create_window(df, c[0], m)\n",
    "  fig = go.Figure()\n",
    "  fig.add_trace(go.Scatter(y=a, name='a'))\n",
    "  fig.show()"
   ]
  }
 ],
 "metadata": {
  "colab": {
   "authorship_tag": "ABX9TyMv3Jx1ZMOlYe7MwanOBqQw",
   "provenance": [
    {
     "file_id": "1G0OrWP0ffKRkHB_MjGEeIWPPFdcS4sp_",
     "timestamp": 1753989025804
    }
   ]
  },
  "kernelspec": {
   "display_name": "venv",
   "language": "python",
   "name": "python3"
  },
  "language_info": {
   "codemirror_mode": {
    "name": "ipython",
    "version": 3
   },
   "file_extension": ".py",
   "mimetype": "text/x-python",
   "name": "python",
   "nbconvert_exporter": "python",
   "pygments_lexer": "ipython3",
   "version": "3.12.11"
  }
 },
 "nbformat": 4,
 "nbformat_minor": 0
}
