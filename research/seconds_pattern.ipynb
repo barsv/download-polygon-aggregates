{
 "cells": [
  {
   "cell_type": "code",
   "execution_count": null,
   "metadata": {},
   "outputs": [],
   "source": [
    "#!pip install --upgrade pip"
   ]
  },
  {
   "cell_type": "code",
   "execution_count": null,
   "metadata": {
    "colab": {
     "base_uri": "https://localhost:8080/"
    },
    "executionInfo": {
     "elapsed": 8633,
     "status": "ok",
     "timestamp": 1754123154820,
     "user": {
      "displayName": "Stanislav Baranov",
      "userId": "01012316052495130455"
     },
     "user_tz": -180
    },
    "id": "DSOxAcbV31wl",
    "outputId": "1980035e-514c-4569-c2b6-6c451b67233e"
   },
   "outputs": [],
   "source": [
    "!pip install pandas pyarrow scipy"
   ]
  },
  {
   "cell_type": "code",
   "execution_count": null,
   "metadata": {
    "executionInfo": {
     "elapsed": 44,
     "status": "ok",
     "timestamp": 1754123154880,
     "user": {
      "displayName": "Stanislav Baranov",
      "userId": "01012316052495130455"
     },
     "user_tz": -180
    },
    "id": "ejVGyp3V4dPr"
   },
   "outputs": [],
   "source": [
    "# function to download data.\n",
    "\n",
    "import requests\n",
    "from tqdm import tqdm\n",
    "\n",
    "def get_filename(ticker, interval, year):\n",
    "    return f'data/{ticker}_{interval}_{year}.parquet'\n",
    "\n",
    "def download(ticker, interval, year):\n",
    "    filename = get_filename(ticker, interval, year)\n",
    "    if year:\n",
    "      # url for seconds\n",
    "      url = f\"https://barsv.com/api/download/file/{ticker}/{year}?format=parquet&interval={interval}\"\n",
    "    else:\n",
    "      # url for minutes+\n",
    "      url = f\"https://barsv.com/api/download/file/{ticker}/{ticker}_{interval}?interval={interval}&format=parquet\"\n",
    "    response = requests.get(url, stream=True)\n",
    "\n",
    "    # Get the total file size from the content-length header\n",
    "    total_size = int(response.headers.get('content-length', 0))\n",
    "\n",
    "    with open(filename, 'wb') as f, tqdm(\n",
    "        desc=filename,\n",
    "        total=total_size,\n",
    "        unit='iB',\n",
    "        unit_scale=True,\n",
    "        unit_divisor=1024,\n",
    "    ) as bar:\n",
    "        for data in response.iter_content(chunk_size=1024):\n",
    "            size = f.write(data)\n",
    "            bar.update(size)"
   ]
  },
  {
   "cell_type": "code",
   "execution_count": null,
   "metadata": {
    "colab": {
     "base_uri": "https://localhost:8080/"
    },
    "executionInfo": {
     "elapsed": 52909,
     "status": "ok",
     "timestamp": 1754123207798,
     "user": {
      "displayName": "Stanislav Baranov",
      "userId": "01012316052495130455"
     },
     "user_tz": -180
    },
    "id": "ws9nB8H15SW3",
    "outputId": "f59ba7f0-5988-4cd2-83c2-6ec0765d2272"
   },
   "outputs": [],
   "source": [
    "ticker = 'AAPL'\n",
    "interval = '5s'\n",
    "year = '2024'"
   ]
  },
  {
   "cell_type": "code",
   "execution_count": null,
   "metadata": {},
   "outputs": [],
   "source": [
    "import os\n",
    "\n",
    "filename = get_filename(ticker, interval, year)\n",
    "# If file doesn't exist, then download it.\n",
    "if not os.path.exists(filename):\n",
    "\tdownload(ticker, interval, year)"
   ]
  },
  {
   "cell_type": "code",
   "execution_count": null,
   "metadata": {
    "colab": {
     "base_uri": "https://localhost:8080/",
     "height": 542
    },
    "executionInfo": {
     "elapsed": 7337,
     "status": "ok",
     "timestamp": 1754123215145,
     "user": {
      "displayName": "Stanislav Baranov",
      "userId": "01012316052495130455"
     },
     "user_tz": -180
    },
    "id": "d07d5bb5",
    "outputId": "08bccf92-6546-4af4-fbcb-1150c0b86717"
   },
   "outputs": [],
   "source": [
    "# plot last points.\n",
    "import pandas as pd\n",
    "import plotly.express as px\n",
    "\n",
    "filename = get_filename(ticker, interval, year)\n",
    "df = pd.read_parquet(filename)\n",
    "\n",
    "fig = px.line(df[-1000:], y='open', title=f'{ticker} Open Prices')\n",
    "fig.show()"
   ]
  },
  {
   "cell_type": "code",
   "execution_count": null,
   "metadata": {
    "colab": {
     "base_uri": "https://localhost:8080/"
    },
    "executionInfo": {
     "elapsed": 10,
     "status": "ok",
     "timestamp": 1754123215195,
     "user": {
      "displayName": "Stanislav Baranov",
      "userId": "01012316052495130455"
     },
     "user_tz": -180
    },
    "id": "bz2MsldEATNV",
    "outputId": "1118d7b0-6bf3-4082-cb91-a48f724911a9"
   },
   "outputs": [],
   "source": [
    "total_bars = df.shape[0]\n",
    "print(f'Total bars: {total_bars} ({total_bars:,})')"
   ]
  },
  {
   "cell_type": "code",
   "execution_count": null,
   "metadata": {
    "executionInfo": {
     "elapsed": 7,
     "status": "ok",
     "timestamp": 1754123215204,
     "user": {
      "displayName": "Stanislav Baranov",
      "userId": "01012316052495130455"
     },
     "user_tz": -180
    },
    "id": "482iou8y0npW"
   },
   "outputs": [],
   "source": [
    "m = 60 # window size"
   ]
  },
  {
   "cell_type": "code",
   "execution_count": null,
   "metadata": {
    "executionInfo": {
     "elapsed": 6,
     "status": "ok",
     "timestamp": 1754123215216,
     "user": {
      "displayName": "Stanislav Baranov",
      "userId": "01012316052495130455"
     },
     "user_tz": -180
    },
    "id": "FkbegGXDKl-L"
   },
   "outputs": [],
   "source": [
    "import numpy as np\n",
    "\n",
    "def create_window(df, index, window_size):\n",
    "    # note: astype(np.float64) is needed here because later we\n",
    "    # do `m * sum_a_sq - sum_a**2` that in float32 is always zero\n",
    "    # due to floating-point inaccuracy.\n",
    "    return df.loc[index:index + window_size - 1]['open'].astype(np.float64).values\n"
   ]
  },
  {
   "cell_type": "code",
   "execution_count": null,
   "metadata": {
    "executionInfo": {
     "elapsed": 4,
     "status": "ok",
     "timestamp": 1754123215218,
     "user": {
      "displayName": "Stanislav Baranov",
      "userId": "01012316052495130455"
     },
     "user_tz": -180
    },
    "id": "a2zYq5MJ8iZM"
   },
   "outputs": [],
   "source": [
    "a0 = create_window(df, 42, m)\n",
    "a = create_window(df, 82997, m)"
   ]
  },
  {
   "cell_type": "code",
   "execution_count": null,
   "metadata": {
    "colab": {
     "base_uri": "https://localhost:8080/",
     "height": 542
    },
    "executionInfo": {
     "elapsed": 64,
     "status": "ok",
     "timestamp": 1754123215279,
     "user": {
      "displayName": "Stanislav Baranov",
      "userId": "01012316052495130455"
     },
     "user_tz": -180
    },
    "id": "UdiYY_cNAsK6",
    "outputId": "23b023fe-ebe8-4259-e78a-23070135e769"
   },
   "outputs": [],
   "source": [
    "# plot the original data without re-scalling.\n",
    "\n",
    "import plotly.graph_objects as go\n",
    "from plotly.subplots import make_subplots\n",
    "\n",
    "# Create subplots\n",
    "fig = make_subplots(\n",
    "    rows=2, cols=2,\n",
    "    specs=[[{\"rowspan\": 2}, {\"rowspan\": 1}],\n",
    "           [None, {}]],\n",
    "    subplot_titles=(\"Shared Y-axis\", \"a0 (Separate Y-axis)\", \"a (Separate Y-axis)\")\n",
    ")\n",
    "\n",
    "# Plot on the left (shared y-axis)\n",
    "fig.add_trace(go.Scatter(y=a0, name='a0'), row=1, col=1)\n",
    "fig.add_trace(go.Scatter(y=a, name='a'), row=1, col=1)\n",
    "\n",
    "# Plot on the right (separate y-axes)\n",
    "fig.add_trace(go.Scatter(y=a0, name='a0'), row=1, col=2)\n",
    "fig.add_trace(go.Scatter(y=a, name='a'), row=2, col=2)\n",
    "\n",
    "fig.update_layout(margin=dict(b=100))  # Увеличь отступ снизу\n",
    "\n",
    "fig.add_annotation(\n",
    "    text=\"Fig. 1. Here a and a0 are plotted on the same Y scale.\",\n",
    "    xref=\"paper\", yref=\"paper\",\n",
    "    x=0, y=-0.20,\n",
    "    showarrow=False,\n",
    "    font=dict(size=16),\n",
    ")\n",
    "\n",
    "fig.add_annotation(\n",
    "    text=\"Fig. 2. Here a and a0 are plotted each on it's own Y scale.\",\n",
    "    xref=\"paper\", yref=\"paper\",\n",
    "    x=0.8, y=-0.20,\n",
    "    showarrow=False,\n",
    "    font=dict(size=16),\n",
    ")\n",
    "fig.show()"
   ]
  },
  {
   "cell_type": "code",
   "execution_count": null,
   "metadata": {
    "executionInfo": {
     "elapsed": 10,
     "status": "ok",
     "timestamp": 1754123215297,
     "user": {
      "displayName": "Stanislav Baranov",
      "userId": "01012316052495130455"
     },
     "user_tz": -180
    },
    "id": "H75KaQgvKmHI"
   },
   "outputs": [],
   "source": [
    "# implementation of the above formulas.\n",
    "def get_alpha_lambda(a0, a, sum_a0 = None):\n",
    "    ''' sum_a0 is to speed up calculations when we have 1 a0 and many a.'''\n",
    "    m = len(a)\n",
    "    sum_a = a.sum()\n",
    "    if sum_a0 is None:\n",
    "        sum_a0 = a0.sum()\n",
    "    sum_a_sq = (a**2).sum()\n",
    "    sum_a_a0 = (a * a0).sum()\n",
    "\n",
    "    divider = m * sum_a_sq - sum_a**2\n",
    "    if divider == 0:\n",
    "        #print(f'divider: {divider}, m: {m}, sum_a: {sum_a}, sum_a_sq: {sum_a_sq}, a: {a}')\n",
    "        return np.nan, np.nan\n",
    "\n",
    "    alpha = (m * sum_a_a0 - sum_a * sum_a0) / divider\n",
    "    lmbda = (sum_a0 - alpha * sum_a) / m\n",
    "    return alpha, lmbda"
   ]
  },
  {
   "cell_type": "code",
   "execution_count": null,
   "metadata": {
    "colab": {
     "base_uri": "https://localhost:8080/",
     "height": 577
    },
    "executionInfo": {
     "elapsed": 41,
     "status": "ok",
     "timestamp": 1754123215343,
     "user": {
      "displayName": "Stanislav Baranov",
      "userId": "01012316052495130455"
     },
     "user_tz": -180
    },
    "id": "mN2q786W3llK",
    "outputId": "4ca9a1d5-fb4c-45e1-a142-d3d3e7d1ae48"
   },
   "outputs": [],
   "source": [
    "# now rescale.\n",
    "\n",
    "import numpy as np\n",
    "\n",
    "def plot_rescaled(a0, a):\n",
    "    alpha, lmbda = get_alpha_lambda(a0, a)\n",
    "    print(f'alpha = {alpha}')\n",
    "    print(f'lambda = {lmbda}')\n",
    "\n",
    "    # Apply the transformation\n",
    "    a_transformed = alpha * a + lmbda\n",
    "\n",
    "    # Plot the original and transformed data\n",
    "    import plotly.graph_objects as go\n",
    "\n",
    "    fig = go.Figure()\n",
    "    fig.add_trace(go.Scatter(y=a0, name='a0'))\n",
    "    fig.add_trace(go.Scatter(y=a_transformed, name='a (transformed)'))\n",
    "    fig.add_annotation(\n",
    "        text=\"Fig. 3. Here a is rescaled to match a0. NOTE: negative alpha flips a.\",\n",
    "        xref=\"paper\", yref=\"paper\",\n",
    "        x=0.5, y=-0.20,\n",
    "        showarrow=False,\n",
    "        font=dict(size=16),\n",
    "    )\n",
    "    fig.show()\n",
    "\n",
    "plot_rescaled(a0, a)\n"
   ]
  },
  {
   "cell_type": "code",
   "execution_count": null,
   "metadata": {
    "colab": {
     "base_uri": "https://localhost:8080/"
    },
    "executionInfo": {
     "elapsed": 13,
     "status": "ok",
     "timestamp": 1754123215360,
     "user": {
      "displayName": "Stanislav Baranov",
      "userId": "01012316052495130455"
     },
     "user_tz": -180
    },
    "id": "2d009a1e",
    "outputId": "3cf40c3a-0ab8-4b32-829e-0c03a5453617"
   },
   "outputs": [],
   "source": [
    "import numpy as np\n",
    "\n",
    "def get_rmse(a0, a):\n",
    "  \"\"\"Calculates the root mean square error of the linear fit between two series.\n",
    "\n",
    "  Args:\n",
    "    a0: The first pandas Series.\n",
    "    a: The second pandas Series.\n",
    "\n",
    "  Returns:\n",
    "    The root mean square error.\n",
    "  \"\"\"\n",
    "  alpha, lmbda = get_alpha_lambda(a0, a)\n",
    "  if np.isnan(alpha):\n",
    "      return 1e9 # a large number\n",
    "  a_transformed = alpha * a + lmbda\n",
    "  return np.sqrt(np.mean((a0 - a_transformed)**2))\n",
    "\n",
    "print(f'get_rmse(a0, a): {get_rmse(a0, a)}')"
   ]
  },
  {
   "cell_type": "code",
   "execution_count": null,
   "metadata": {
    "executionInfo": {
     "elapsed": 2435,
     "status": "ok",
     "timestamp": 1754123217794,
     "user": {
      "displayName": "Stanislav Baranov",
      "userId": "01012316052495130455"
     },
     "user_tz": -180
    },
    "id": "cefaac66"
   },
   "outputs": [],
   "source": [
    "from scipy import signal\n",
    "\n",
    "class PatternSearcher:\n",
    "    \"\"\"\n",
    "    A class to pre-calculate cumulative sums of a time series for optimized\n",
    "    pattern searching using Normalized Cross-Correlation.\n",
    "    \"\"\"\n",
    "    def __init__(self, series):\n",
    "        \"\"\"\n",
    "        Initializes the PatternSearcher with a time series.\n",
    "\n",
    "        Args:\n",
    "            series: The time series data (pandas Series or NumPy array).\n",
    "        \"\"\"\n",
    "        # Convert the series to a NumPy array with float64 dtype for numerical stability\n",
    "        self.series = np.asarray(series, dtype=np.float64)\n",
    "        self.n = len(self.series)\n",
    "\n",
    "        # Pre-calculate cumulative sums\n",
    "        self.cum_sum_x = np.cumsum(self.series)\n",
    "        self.cum_sum_x_sq = np.cumsum(self.series**2)\n",
    "\n",
    "    def search(self, template):\n",
    "        \"\"\"\n",
    "        Finds the best match of a template pattern within the time series\n",
    "        using Normalized Cross-Correlation.\n",
    "\n",
    "        Args:\n",
    "            template: The pattern template to search for (pandas Series or NumPy array).\n",
    "\n",
    "        Returns:\n",
    "            A tuple containing the index of the best match and its correlation\n",
    "            coefficient, or None if the template has zero variance.\n",
    "        \"\"\"\n",
    "        # Convert the template to a NumPy array with float64 dtype\n",
    "        template = np.asarray(template, dtype=np.float64)\n",
    "        m = len(template)\n",
    "\n",
    "        if m > self.n:\n",
    "            print(\"Template length is greater than series length.\")\n",
    "            return None\n",
    "\n",
    "        # --- 2. Calculate terms for the template (y) ---\n",
    "        sum_y = template.sum()\n",
    "        sum_y_sq = (template**2).sum()\n",
    "        # Denominator term for y, which is constant\n",
    "        denom_y = m * sum_y_sq - sum_y**2\n",
    "\n",
    "        if denom_y <= 1e-10: # Use a small epsilon for floating point comparison\n",
    "            print(\"Template has zero variance, cannot perform matching.\")\n",
    "            return None\n",
    "\n",
    "        # --- 3. Calculate terms for the series (x) using rolling sums ---\n",
    "        # Rolling sum of x for each window\n",
    "        sum_x = self.cum_sum_x[m-1:] - np.concatenate(([0], self.cum_sum_x[:-m]))\n",
    "        # Rolling sum of x^2 for each window\n",
    "        sum_x_sq = self.cum_sum_x_sq[m-1:] - np.concatenate(([0], self.cum_sum_x_sq[:-m]))\n",
    "\n",
    "        # Denominator term for x for each window\n",
    "        denom_x = m * sum_x_sq - sum_x**2\n",
    "        # Avoid division by zero for windows with no variance\n",
    "        denom_x[denom_x <= 1e-10] = 1 # Set to 1 to avoid NaN, result will be 0 anyway\n",
    "\n",
    "        # --- 4. Calculate cross-correlation term sum(xy) ---\n",
    "        # This is the sum(x*y) term, calculated efficiently using FFT\n",
    "        sum_xy = signal.fftconvolve(self.series, template[::-1], mode='valid')\n",
    "\n",
    "        # --- 5. Calculate Correlation Coefficient (r) for all windows ---\n",
    "        # Numerator term\n",
    "        num = m * sum_xy - sum_x * sum_y\n",
    "        # Denominator term\n",
    "        denom = np.sqrt(denom_x * denom_y)\n",
    "\n",
    "        # Handle potential division by zero in denom\n",
    "        r = np.zeros_like(num, dtype=np.float64) # Initialize r with zeros\n",
    "        non_zero_denom_mask = denom > 1e-10 # Create a mask for non-zero denominators\n",
    "        # Calculate r only where denom is not zero\n",
    "        r[non_zero_denom_mask] = num[non_zero_denom_mask] / denom[non_zero_denom_mask]\n",
    "\n",
    "        return r\n",
    "\n",
    "    def get_sorted_r(self, template, return_top_k=None):\n",
    "        \"\"\"\n",
    "        Get sorted correlation results with optional optimization for top-K results.\n",
    "        \n",
    "        Args:\n",
    "            template: The pattern template to search for.\n",
    "            return_top_k: If specified, return only the top K results using argpartition\n",
    "                         for better performance. If None, return all results sorted.\n",
    "        \n",
    "        Returns:\n",
    "            List of tuples (index, correlation_value) sorted by absolute correlation.\n",
    "        \"\"\"\n",
    "        r = self.search(template)\n",
    "        if r is None:\n",
    "            return None\n",
    "            \n",
    "        # OPTIMIZATION: Use argpartition for top-K selection instead of full sorting\n",
    "        if return_top_k is not None and return_top_k < len(r):\n",
    "            # Use argpartition to find top-K efficiently (O(n) vs O(n log n))\n",
    "            abs_r = np.abs(r)\n",
    "            top_k_indices = np.argpartition(abs_r, -return_top_k)[-return_top_k:]\n",
    "            # Sort only the top-K results\n",
    "            sorted_within_top = np.argsort(abs_r[top_k_indices])[::-1]\n",
    "            final_indices = top_k_indices[sorted_within_top]\n",
    "            top_r_values = r[final_indices]\n",
    "            return list(zip(final_indices, top_r_values))\n",
    "        else:\n",
    "            # Full sorting (original behavior)\n",
    "            top_indices = np.argsort(np.abs(r))[::-1]\n",
    "            top_r_values = r[top_indices]\n",
    "            return list(zip(top_indices, top_r_values))"
   ]
  },
  {
   "cell_type": "code",
   "execution_count": null,
   "metadata": {
    "executionInfo": {
     "elapsed": 7,
     "status": "ok",
     "timestamp": 1754123218529,
     "user": {
      "displayName": "Stanislav Baranov",
      "userId": "01012316052495130455"
     },
     "user_tz": -180
    },
    "id": "El7KLJ0Fz8EJ"
   },
   "outputs": [],
   "source": [
    "from scipy import signal\n",
    "import random\n",
    "from tqdm import tqdm\n",
    "\n",
    "# Instantiate the optimized PatternSearcher with the 'open' column of the DataFrame\n",
    "searcher = PatternSearcher(df['open'])\n",
    "# Set the random seed for reproducibility\n",
    "random.seed(42)\n",
    "correlations = []"
   ]
  },
  {
   "cell_type": "code",
   "execution_count": null,
   "metadata": {
    "colab": {
     "base_uri": "https://localhost:8080/"
    },
    "executionInfo": {
     "elapsed": 72484,
     "status": "ok",
     "timestamp": 1754123291020,
     "user": {
      "displayName": "Stanislav Baranov",
      "userId": "01012316052495130455"
     },
     "user_tz": -180
    },
    "id": "DF5T0musLs3Y",
    "outputId": "5d32f650-e4c8-4d27-e255-ab3f762e6983"
   },
   "outputs": [],
   "source": [
    "N = 100\n",
    "# get correlations for N randomly sampled patterns\n",
    "for _ in tqdm(range(N)):\n",
    "    start_index = random.randrange(0, len(df) - m)\n",
    "    pattern = create_window(df, start_index, m)\n",
    "    correlations.append({\n",
    "        'start_index': start_index,\n",
    "        'top_10k_r': searcher.get_sorted_r(pattern, 10000)\n",
    "    })\n"
   ]
  },
  {
   "cell_type": "code",
   "execution_count": null,
   "metadata": {
    "colab": {
     "base_uri": "https://localhost:8080/",
     "height": 542
    },
    "executionInfo": {
     "elapsed": 23,
     "status": "ok",
     "timestamp": 1754123291034,
     "user": {
      "displayName": "Stanislav Baranov",
      "userId": "01012316052495130455"
     },
     "user_tz": -180
    },
    "id": "1kITkAfUfd3o",
    "outputId": "552d8c51-cd83-4195-e257-c79896e65682"
   },
   "outputs": [],
   "source": [
    "# take slice_point-th correlation in each experiment, sort them, plot\n",
    "slice_point = 9900\n",
    "correlations.sort(key=lambda x: abs(x['top_10k_r'][slice_point][1]), reverse=True)\n",
    "\n",
    "y = []\n",
    "for corr in correlations:\n",
    "    y.append(abs(corr['top_10k_r'][slice_point][1]))\n",
    "\n",
    "fig = go.Figure()\n",
    "fig.add_trace(go.Scatter(y=y, name=f'slice_point-th r values sorted'))\n",
    "fig.show()"
   ]
  },
  {
   "cell_type": "code",
   "execution_count": null,
   "metadata": {
    "colab": {
     "base_uri": "https://localhost:8080/",
     "height": 542
    },
    "executionInfo": {
     "elapsed": 12,
     "status": "ok",
     "timestamp": 1754123291048,
     "user": {
      "displayName": "Stanislav Baranov",
      "userId": "01012316052495130455"
     },
     "user_tz": -180
    },
    "id": "b086be1b",
    "outputId": "0ba2d024-d3cb-486a-9434-85c3bd2edf93"
   },
   "outputs": [],
   "source": [
    "import plotly.express as px\n",
    "\n",
    "# Extract the 1000th correlation value from each experiment\n",
    "y = [abs(corr['top_10k_r'][slice_point][1]) for corr in correlations]\n",
    "\n",
    "# Create the histogram\n",
    "fig = px.histogram(x=y, nbins=40, title='Distribution of the 1000th Correlation Value')\n",
    "fig.update_layout(\n",
    "    xaxis_title=\"Absolute Correlation Value\",\n",
    "    yaxis_title=\"Frequency\",\n",
    ")\n",
    "fig.show()"
   ]
  },
  {
   "cell_type": "code",
   "execution_count": null,
   "metadata": {
    "colab": {
     "base_uri": "https://localhost:8080/",
     "height": 1000
    },
    "executionInfo": {
     "elapsed": 103,
     "status": "ok",
     "timestamp": 1754123291153,
     "user": {
      "displayName": "Stanislav Baranov",
      "userId": "01012316052495130455"
     },
     "user_tz": -180
    },
    "id": "YwGTySVh-b4R",
    "outputId": "1515fbf6-8a50-443b-fa94-51e3b8b654e4"
   },
   "outputs": [],
   "source": [
    "for c in correlations[:2]:\n",
    "  a = create_window(df, c['start_index'], m)\n",
    "  fig = go.Figure()\n",
    "  fig.add_trace(go.Scatter(y=a, name='a'))\n",
    "  fig.show()"
   ]
  },
  {
   "cell_type": "code",
   "execution_count": null,
   "metadata": {
    "colab": {
     "base_uri": "https://localhost:8080/",
     "height": 1000
    },
    "executionInfo": {
     "elapsed": 345,
     "status": "ok",
     "timestamp": 1754123291494,
     "user": {
      "displayName": "Stanislav Baranov",
      "userId": "01012316052495130455"
     },
     "user_tz": -180
    },
    "id": "tLAnWE4RBnOn",
    "outputId": "164ad846-717c-44ed-834f-cc86e07163c5"
   },
   "outputs": [],
   "source": [
    "for c in correlations[1]['top_10k_r'][:10]:\n",
    "  print(c)\n",
    "  a = create_window(df, c[0], m)\n",
    "  fig = go.Figure()\n",
    "  fig.add_trace(go.Scatter(y=a, name='a'))\n",
    "  fig.show()"
   ]
  }
 ],
 "metadata": {
  "colab": {
   "authorship_tag": "ABX9TyMv3Jx1ZMOlYe7MwanOBqQw",
   "provenance": [
    {
     "file_id": "1G0OrWP0ffKRkHB_MjGEeIWPPFdcS4sp_",
     "timestamp": 1753989025804
    }
   ]
  },
  "kernelspec": {
   "display_name": "venv",
   "language": "python",
   "name": "python3"
  },
  "language_info": {
   "codemirror_mode": {
    "name": "ipython",
    "version": 3
   },
   "file_extension": ".py",
   "mimetype": "text/x-python",
   "name": "python",
   "nbconvert_exporter": "python",
   "pygments_lexer": "ipython3",
   "version": "3.12.11"
  }
 },
 "nbformat": 4,
 "nbformat_minor": 0
}
