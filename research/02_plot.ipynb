{
 "cells": [
  {
   "cell_type": "markdown",
   "id": "0",
   "metadata": {},
   "source": [
    "this notebook is to just plot what was downloaded in 01_download.ipynb to check what was downloaded."
   ]
  },
  {
   "cell_type": "code",
   "execution_count": null,
   "id": "1",
   "metadata": {},
   "outputs": [],
   "source": [
    "!pip install pandas mplfinance ipywidgets"
   ]
  },
  {
   "cell_type": "code",
   "execution_count": null,
   "id": "2",
   "metadata": {},
   "outputs": [],
   "source": [
    "import pandas as pd\n",
    "import mplfinance as mpf\n",
    "import logging\n",
    "import os\n",
    "\n",
    "# Set up basic logging\n",
    "logging.basicConfig(level=logging.INFO, format='%(asctime)s - %(levelname)s - %(message)s')\n",
    "logger = logging.getLogger()\n",
    "\n",
    "# Configuration\n",
    "DATA_DIR = './stock_data/'"
   ]
  },
  {
   "cell_type": "markdown",
   "id": "3",
   "metadata": {},
   "source": [
    "load data"
   ]
  },
  {
   "cell_type": "code",
   "execution_count": null,
   "id": "4",
   "metadata": {},
   "outputs": [],
   "source": [
    "TICKER = 'SPY'  # Specify your ticker here\n",
    "\n",
    "# Load CSV\n",
    "csv_path = os.path.join(DATA_DIR, f'{TICKER}.csv')\n",
    "try:\n",
    "    df = pd.read_csv(csv_path)\n",
    "    df['timestamp'] = pd.to_datetime(df['timestamp'])\n",
    "    logger.info(f'Loaded {len(df)} records for {TICKER} from {csv_path}')\n",
    "except Exception as e:\n",
    "    logger.error(f'Error loading {TICKER}: {e}')\n",
    "    df = pd.DataFrame()\n",
    "\n",
    "df"
   ]
  },
  {
   "cell_type": "code",
   "execution_count": null,
   "id": "5",
   "metadata": {},
   "outputs": [],
   "source": [
    "START_DATE = '2003-09-10'  # Specify start date (YYYY-MM-DD)\n",
    "END_DATE = '2003-09-20'  # Specify end date (YYYY-MM-DD)"
   ]
  },
  {
   "cell_type": "code",
   "execution_count": null,
   "id": "6",
   "metadata": {},
   "outputs": [],
   "source": [
    "# # advance the time by one week\n",
    "# START_DATE = pd.to_datetime(START_DATE) + pd.Timedelta(days=7)\n",
    "# END_DATE = pd.to_datetime(END_DATE) + pd.Timedelta(days=7)"
   ]
  },
  {
   "cell_type": "code",
   "execution_count": null,
   "id": "7",
   "metadata": {},
   "outputs": [],
   "source": [
    "\n",
    "# Filter by date range\n",
    "df_slice = df[(df['timestamp'] >= START_DATE) & (df['timestamp'] <= END_DATE)]\n",
    "# Prepare data for plotting\n",
    "df_slice.set_index('timestamp', inplace=True)\n",
    "df_slice = df_slice[['open', 'high', 'low', 'close', 'volume']]\n",
    "# Plot candlestick chart\n",
    "mpf.plot(\n",
    "    df_slice,\n",
    "    type='candle',\n",
    "    style='yahoo',\n",
    "    volume=True,\n",
    "    warn_too_much_data=1000000,\n",
    "    figsize=(12, 8),  # Set canvas size (width=12 inches, height=8 inches)\n",
    ")\n",
    "logger.info(f'Plotted candlestick chart for {TICKER} from {START_DATE} to {END_DATE}')"
   ]
  }
 ],
 "metadata": {
  "kernelspec": {
   "display_name": ".venv",
   "language": "python",
   "name": "python3"
  },
  "language_info": {
   "codemirror_mode": {
    "name": "ipython",
    "version": 3
   },
   "file_extension": ".py",
   "mimetype": "text/x-python",
   "name": "python",
   "nbconvert_exporter": "python",
   "pygments_lexer": "ipython3",
   "version": "3.10.12"
  }
 },
 "nbformat": 4,
 "nbformat_minor": 5
}
