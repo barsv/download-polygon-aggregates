{
 "cells": [
  {
   "cell_type": "code",
   "execution_count": null,
   "id": "f475e898",
   "metadata": {},
   "outputs": [],
   "source": [
    "import csv\n",
    "\n",
    "def collect_unique_dates(file_path):\n",
    "    unique_dates = set()\n",
    "    \n",
    "    with open(file_path, newline='', encoding='utf-8') as csvfile:\n",
    "        reader = csv.reader(csvfile)\n",
    "        for row in reader:\n",
    "            if row:  # skip empty lines\n",
    "                date = row[0]\n",
    "                unique_dates.add(date)\n",
    "    \n",
    "    return unique_dates\n",
    "\n",
    "# Example usage:\n",
    "file_path = 'your_file.csv'\n",
    "dates = collect_unique_dates(file_path)\n",
    "\n",
    "print(f\"Found unique dates: {len(dates)}\")\n",
    "# If you need to print the dates themselves:\n",
    "# for d in sorted(dates):\n",
    "#     print(d)"
   ]
  }
 ],
 "metadata": {
  "language_info": {
   "name": "python"
  }
 },
 "nbformat": 4,
 "nbformat_minor": 5
}
