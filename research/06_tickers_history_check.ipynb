{
 "cells": [
  {
   "cell_type": "markdown",
   "id": "547157f8",
   "metadata": {},
   "source": [
    "check that i have active and inactive tickers for all days when exchanges were open."
   ]
  },
  {
   "cell_type": "code",
   "execution_count": 3,
   "id": "eb44f9d7",
   "metadata": {},
   "outputs": [],
   "source": [
    "# setup client for AWS S3\n",
    "import sys\n",
    "import os\n",
    "# Add the parent directory to Python path to import api_key module\n",
    "sys.path.append(os.path.dirname(os.path.abspath('')))\n",
    "import settings"
   ]
  },
  {
   "cell_type": "code",
   "execution_count": 4,
   "id": "5403e688",
   "metadata": {},
   "outputs": [],
   "source": [
    "tickers_dir = os.path.join(settings.ABSOLUTE_DATA_DIR, 'tickers')\n",
    "active_tickers_file = os.path.join(tickers_dir, 'tickers_history_active.csv')\n",
    "inactive_tickers_file = os.path.join(tickers_dir, 'tickers_history_inactive.csv')"
   ]
  },
  {
   "cell_type": "code",
   "execution_count": 37,
   "id": "f475e898",
   "metadata": {},
   "outputs": [],
   "source": [
    "import csv\n",
    "\n",
    "def collect_unique_dates(file_path):\n",
    "    unique_dates = set()\n",
    "    with open(file_path, newline='', encoding='utf-8') as csvfile:\n",
    "        reader = csv.reader(csvfile)\n",
    "        next(reader, None)  # skip the first line (header)\n",
    "        prev_date = None\n",
    "        line_counter = 0\n",
    "        for row in reader:\n",
    "            if row:  # skip empty lines\n",
    "                date = row[0]\n",
    "                # optimization: check against the hashset only if the date is different from the previous one\n",
    "                if date != prev_date:\n",
    "                    unique_dates.add(date)\n",
    "                    prev_date = date\n",
    "            else:\n",
    "                print(f\"Empty line found in {file_path} at position {line_counter}, skipping.\")\n",
    "                return None\n",
    "            line_counter += 1\n",
    "    return unique_dates"
   ]
  },
  {
   "cell_type": "code",
   "execution_count": 6,
   "id": "98af5cdb",
   "metadata": {},
   "outputs": [
    {
     "data": {
      "text/html": [
       "<div>\n",
       "<style scoped>\n",
       "    .dataframe tbody tr th:only-of-type {\n",
       "        vertical-align: middle;\n",
       "    }\n",
       "\n",
       "    .dataframe tbody tr th {\n",
       "        vertical-align: top;\n",
       "    }\n",
       "\n",
       "    .dataframe thead th {\n",
       "        text-align: right;\n",
       "    }\n",
       "</style>\n",
       "<table border=\"1\" class=\"dataframe\">\n",
       "  <thead>\n",
       "    <tr style=\"text-align: right;\">\n",
       "      <th></th>\n",
       "      <th>Date</th>\n",
       "    </tr>\n",
       "  </thead>\n",
       "  <tbody>\n",
       "    <tr>\n",
       "      <th>0</th>\n",
       "      <td>2005-08-29</td>\n",
       "    </tr>\n",
       "    <tr>\n",
       "      <th>1</th>\n",
       "      <td>2017-03-22</td>\n",
       "    </tr>\n",
       "    <tr>\n",
       "      <th>2</th>\n",
       "      <td>2023-11-06</td>\n",
       "    </tr>\n",
       "    <tr>\n",
       "      <th>3</th>\n",
       "      <td>2004-03-09</td>\n",
       "    </tr>\n",
       "    <tr>\n",
       "      <th>4</th>\n",
       "      <td>2017-03-02</td>\n",
       "    </tr>\n",
       "    <tr>\n",
       "      <th>...</th>\n",
       "      <td>...</td>\n",
       "    </tr>\n",
       "    <tr>\n",
       "      <th>5672</th>\n",
       "      <td>2009-03-09</td>\n",
       "    </tr>\n",
       "    <tr>\n",
       "      <th>5673</th>\n",
       "      <td>2024-07-16</td>\n",
       "    </tr>\n",
       "    <tr>\n",
       "      <th>5674</th>\n",
       "      <td>2006-01-17</td>\n",
       "    </tr>\n",
       "    <tr>\n",
       "      <th>5675</th>\n",
       "      <td>2015-03-12</td>\n",
       "    </tr>\n",
       "    <tr>\n",
       "      <th>5676</th>\n",
       "      <td>2022-08-01</td>\n",
       "    </tr>\n",
       "  </tbody>\n",
       "</table>\n",
       "<p>5677 rows × 1 columns</p>\n",
       "</div>"
      ],
      "text/plain": [
       "            Date\n",
       "0     2005-08-29\n",
       "1     2017-03-22\n",
       "2     2023-11-06\n",
       "3     2004-03-09\n",
       "4     2017-03-02\n",
       "...          ...\n",
       "5672  2009-03-09\n",
       "5673  2024-07-16\n",
       "5674  2006-01-17\n",
       "5675  2015-03-12\n",
       "5676  2022-08-01\n",
       "\n",
       "[5677 rows x 1 columns]"
      ]
     },
     "execution_count": 6,
     "metadata": {},
     "output_type": "execute_result"
    }
   ],
   "source": [
    "import pandas as pd\n",
    "\n",
    "dates = collect_unique_dates(active_tickers_file)\n",
    "df = pd.DataFrame(list(dates), columns=['Date'])\n",
    "df"
   ]
  },
  {
   "cell_type": "code",
   "execution_count": 10,
   "id": "1f73407a",
   "metadata": {},
   "outputs": [
    {
     "name": "stderr",
     "output_type": "stream",
     "text": [
      "/tmp/ipykernel_21737/2639195565.py:2: SettingWithCopyWarning: \n",
      "A value is trying to be set on a copy of a slice from a DataFrame.\n",
      "Try using .loc[row_indexer,col_indexer] = value instead\n",
      "\n",
      "See the caveats in the documentation: https://pandas.pydata.org/pandas-docs/stable/user_guide/indexing.html#returning-a-view-versus-a-copy\n",
      "  df['Date'] = pd.to_datetime(df['Date'])\n"
     ]
    }
   ],
   "source": [
    "# sort the DataFrame by date\n",
    "df['Date'] = pd.to_datetime(df['Date'])\n",
    "df = df.sort_values(by='Date').reset_index(drop=True)\n",
    "# save the DataFrame to a CSV file\n",
    "df.to_csv(os.path.join(tickers_dir, 'unique_active_dates.csv'), index=False)"
   ]
  },
  {
   "cell_type": "code",
   "execution_count": 35,
   "id": "2f46bf95",
   "metadata": {},
   "outputs": [
    {
     "data": {
      "text/plain": [
       "0       2003-09-10\n",
       "1       2003-09-11\n",
       "2       2003-09-12\n",
       "3       2003-09-15\n",
       "4       2003-09-16\n",
       "           ...    \n",
       "5469    2025-06-05\n",
       "5470    2025-06-06\n",
       "5471    2025-06-09\n",
       "5472    2025-06-10\n",
       "5473    2025-06-11\n",
       "Length: 5474, dtype: object"
      ]
     },
     "execution_count": 35,
     "metadata": {},
     "output_type": "execute_result"
    }
   ],
   "source": [
    "import pandas_market_calendars as mcal\n",
    "\n",
    "nyse = mcal.get_calendar('NYSE')\n",
    "\n",
    "schedule = nyse.schedule(start_date='2003-09-10', end_date='2025-06-11')\n",
    "# get dates from the schedule\n",
    "schedule_dates = pd.Series(schedule.index.date)\n",
    "schedule_dates"
   ]
  },
  {
   "cell_type": "code",
   "execution_count": 36,
   "id": "1c5a80fe",
   "metadata": {},
   "outputs": [
    {
     "data": {
      "text/plain": [
       "0       2003-09-10\n",
       "1       2003-09-11\n",
       "2       2003-09-12\n",
       "3       2003-09-15\n",
       "4       2003-09-16\n",
       "           ...    \n",
       "5671    2025-06-05\n",
       "5672    2025-06-06\n",
       "5673    2025-06-09\n",
       "5674    2025-06-10\n",
       "5675    2025-06-11\n",
       "Name: Date, Length: 5676, dtype: object"
      ]
     },
     "execution_count": 36,
     "metadata": {},
     "output_type": "execute_result"
    }
   ],
   "source": [
    "# convert df['Date'] to datetime\n",
    "active_dates = pd.Series(pd.to_datetime(df['Date']).dt.date)\n",
    "active_dates"
   ]
  },
  {
   "cell_type": "code",
   "execution_count": 32,
   "id": "44a7de05",
   "metadata": {},
   "outputs": [
    {
     "name": "stdout",
     "output_type": "stream",
     "text": [
      "True\n",
      "False\n"
     ]
    }
   ],
   "source": [
    "# check that unique_days are in the NYSE schedule\n",
    "print(schedule_dates.isin(active_dates).all())\n",
    "# and that the NYSE schedule is in unique_days\n",
    "print(active_dates.isin(schedule_dates).all())\n"
   ]
  },
  {
   "cell_type": "markdown",
   "id": "a6fd6c61",
   "metadata": {},
   "source": [
    "this True, False result is expected because active_dates were downloaded for all days except weekends. means that it has dates for federal holidays and also days of disasters when exchanges were closed. one more check below."
   ]
  },
  {
   "cell_type": "code",
   "execution_count": 31,
   "id": "98363122",
   "metadata": {},
   "outputs": [
    {
     "name": "stdout",
     "output_type": "stream",
     "text": [
      "Dates in NYSE schedule but not in active dates:\n",
      "Series([], dtype: object)\n",
      "Dates in active dates but not in NYSE schedule:\n",
      "56      2003-11-27\n",
      "76      2003-12-25\n",
      "81      2004-01-01\n",
      "93      2004-01-19\n",
      "113     2004-02-16\n",
      "           ...    \n",
      "5566    2025-01-09\n",
      "5573    2025-01-20\n",
      "5593    2025-02-17\n",
      "5637    2025-04-18\n",
      "5663    2025-05-26\n",
      "Name: Date, Length: 202, dtype: object\n"
     ]
    }
   ],
   "source": [
    "# Find dates that are in schedule_dates but not in active_dates\n",
    "missing_in_active = schedule_dates[~schedule_dates.isin(active_dates)]\n",
    "print(\"Dates in NYSE schedule but not in active dates:\")\n",
    "print(missing_in_active)\n",
    "\n",
    "# Find dates that are in active_dates but not in schedule_dates\n",
    "extra_in_active = active_dates[~active_dates.isin(schedule_dates)]\n",
    "print(\"Dates in active dates but not in NYSE schedule:\")\n",
    "print(extra_in_active)"
   ]
  },
  {
   "cell_type": "code",
   "execution_count": 38,
   "id": "37629cee",
   "metadata": {},
   "outputs": [
    {
     "data": {
      "text/html": [
       "<div>\n",
       "<style scoped>\n",
       "    .dataframe tbody tr th:only-of-type {\n",
       "        vertical-align: middle;\n",
       "    }\n",
       "\n",
       "    .dataframe tbody tr th {\n",
       "        vertical-align: top;\n",
       "    }\n",
       "\n",
       "    .dataframe thead th {\n",
       "        text-align: right;\n",
       "    }\n",
       "</style>\n",
       "<table border=\"1\" class=\"dataframe\">\n",
       "  <thead>\n",
       "    <tr style=\"text-align: right;\">\n",
       "      <th></th>\n",
       "      <th>Date</th>\n",
       "    </tr>\n",
       "  </thead>\n",
       "  <tbody>\n",
       "    <tr>\n",
       "      <th>0</th>\n",
       "      <td>2005-08-29</td>\n",
       "    </tr>\n",
       "    <tr>\n",
       "      <th>1</th>\n",
       "      <td>2017-03-22</td>\n",
       "    </tr>\n",
       "    <tr>\n",
       "      <th>2</th>\n",
       "      <td>2023-11-06</td>\n",
       "    </tr>\n",
       "    <tr>\n",
       "      <th>3</th>\n",
       "      <td>2004-03-09</td>\n",
       "    </tr>\n",
       "    <tr>\n",
       "      <th>4</th>\n",
       "      <td>2017-03-02</td>\n",
       "    </tr>\n",
       "    <tr>\n",
       "      <th>...</th>\n",
       "      <td>...</td>\n",
       "    </tr>\n",
       "    <tr>\n",
       "      <th>5671</th>\n",
       "      <td>2009-03-09</td>\n",
       "    </tr>\n",
       "    <tr>\n",
       "      <th>5672</th>\n",
       "      <td>2024-07-16</td>\n",
       "    </tr>\n",
       "    <tr>\n",
       "      <th>5673</th>\n",
       "      <td>2006-01-17</td>\n",
       "    </tr>\n",
       "    <tr>\n",
       "      <th>5674</th>\n",
       "      <td>2015-03-12</td>\n",
       "    </tr>\n",
       "    <tr>\n",
       "      <th>5675</th>\n",
       "      <td>2022-08-01</td>\n",
       "    </tr>\n",
       "  </tbody>\n",
       "</table>\n",
       "<p>5676 rows × 1 columns</p>\n",
       "</div>"
      ],
      "text/plain": [
       "            Date\n",
       "0     2005-08-29\n",
       "1     2017-03-22\n",
       "2     2023-11-06\n",
       "3     2004-03-09\n",
       "4     2017-03-02\n",
       "...          ...\n",
       "5671  2009-03-09\n",
       "5672  2024-07-16\n",
       "5673  2006-01-17\n",
       "5674  2015-03-12\n",
       "5675  2022-08-01\n",
       "\n",
       "[5676 rows x 1 columns]"
      ]
     },
     "execution_count": 38,
     "metadata": {},
     "output_type": "execute_result"
    }
   ],
   "source": [
    "# now do the same for inactive tickers\n",
    "inactive_dates = collect_unique_dates(inactive_tickers_file)\n",
    "\n",
    "df = pd.DataFrame(list(inactive_dates), columns=['Date'])\n",
    "df"
   ]
  },
  {
   "cell_type": "code",
   "execution_count": 39,
   "id": "58b4f09a",
   "metadata": {},
   "outputs": [],
   "source": [
    "df['Date'] = pd.to_datetime(df['Date'])\n",
    "df = df.sort_values(by='Date').reset_index(drop=True)\n",
    "# save the DataFrame to a CSV file\n",
    "df.to_csv(os.path.join(tickers_dir, 'unique_inactive_dates.csv'), index=False)"
   ]
  },
  {
   "cell_type": "code",
   "execution_count": 40,
   "id": "a6c2bb3f",
   "metadata": {},
   "outputs": [
    {
     "data": {
      "text/plain": [
       "0       2003-09-11\n",
       "1       2003-09-12\n",
       "2       2003-09-15\n",
       "3       2003-09-16\n",
       "4       2003-09-17\n",
       "           ...    \n",
       "5671    2025-06-06\n",
       "5672    2025-06-09\n",
       "5673    2025-06-10\n",
       "5674    2025-06-11\n",
       "5675    2025-06-12\n",
       "Name: Date, Length: 5676, dtype: object"
      ]
     },
     "execution_count": 40,
     "metadata": {},
     "output_type": "execute_result"
    }
   ],
   "source": [
    "inactive_dates = pd.Series(pd.to_datetime(df['Date']).dt.date)\n",
    "inactive_dates"
   ]
  },
  {
   "cell_type": "code",
   "execution_count": 41,
   "id": "767168f6",
   "metadata": {},
   "outputs": [
    {
     "name": "stdout",
     "output_type": "stream",
     "text": [
      "True\n",
      "False\n"
     ]
    }
   ],
   "source": [
    "# check that unique_days are in the NYSE schedule\n",
    "print(schedule_dates.isin(active_dates).all())\n",
    "# and that the NYSE schedule is in unique_days\n",
    "print(active_dates.isin(schedule_dates).all())"
   ]
  },
  {
   "cell_type": "markdown",
   "id": "2fc5c80a",
   "metadata": {},
   "source": [
    "ok. so i have active and inactive tickers for all days when exchanges were open. next step is to try to calculate renames."
   ]
  }
 ],
 "metadata": {
  "kernelspec": {
   "display_name": ".venv",
   "language": "python",
   "name": "python3"
  },
  "language_info": {
   "codemirror_mode": {
    "name": "ipython",
    "version": 3
   },
   "file_extension": ".py",
   "mimetype": "text/x-python",
   "name": "python",
   "nbconvert_exporter": "python",
   "pygments_lexer": "ipython3",
   "version": "3.12.11"
  }
 },
 "nbformat": 4,
 "nbformat_minor": 5
}
