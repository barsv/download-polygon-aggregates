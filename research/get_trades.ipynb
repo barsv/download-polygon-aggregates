{
 "cells": [
  {
   "cell_type": "code",
   "execution_count": null,
   "id": "0",
   "metadata": {},
   "outputs": [],
   "source": [
    "import numpy as np\n",
    "import pandas as pd\n",
    "import plotly.express as px\n",
    "import os\n",
    "\n",
    "# Imports from local scripts.\n",
    "from data_downloader import download, get_filename\n",
    "from trailing_stop_loss import generate_stop_loss_levels\n",
    "from trailing_stop_loss import calculate_pl"
   ]
  },
  {
   "cell_type": "code",
   "execution_count": null,
   "id": "1",
   "metadata": {},
   "outputs": [],
   "source": [
    "ticker = 'AAPL'\n",
    "interval = '5s'\n",
    "year = '2024'"
   ]
  },
  {
   "cell_type": "code",
   "execution_count": null,
   "id": "2",
   "metadata": {},
   "outputs": [],
   "source": [
    "# get data\n",
    "filename = get_filename(ticker, interval, year)\n",
    "# If file doesn't exist, then download it.\n",
    "if not os.path.exists(filename):\n",
    "\tdownload(ticker, interval, year)\n",
    "\n",
    "df = pd.read_parquet(filename)\n",
    "\n",
    "# # show what is loaded\n",
    "# fig = px.line(df[-1000:], y='open', title=f'{ticker} Open Prices')\n",
    "# fig.show()\n",
    "\n",
    "total_bars = df.shape[0]\n",
    "print(f'Total bars: {total_bars} ({total_bars:,})')"
   ]
  },
  {
   "cell_type": "code",
   "execution_count": null,
   "id": "3",
   "metadata": {},
   "outputs": [],
   "source": [
    "# Set trailing stop-loss levels\n",
    "max_sl = 1\n",
    "sl_steps = 10\n",
    "stop_loss_percents, stop_loss_levels = generate_stop_loss_levels(max_sl, sl_steps)\n",
    "\n",
    "print(\"Stop-loss levels (in percent):\")\n",
    "print(stop_loss_percents)\n",
    "print(\"\\nStop-loss levels (as fractions):\")\n",
    "print(stop_loss_levels)"
   ]
  },
  {
   "cell_type": "code",
   "execution_count": null,
   "id": "4",
   "metadata": {},
   "outputs": [],
   "source": [
    "# New cell - Calculate results using calculate_pl\n",
    "tsl_profits = calculate_pl(df, stop_loss_levels)\n",
    "print(f\"Results shape: {tsl_profits.shape}\")\n",
    "print(f\"Shape interpretation: ({len(stop_loss_levels)} SL levels, {len(df)-1} entry points)\")"
   ]
  }
 ],
 "metadata": {
  "kernelspec": {
   "display_name": "venv",
   "language": "python",
   "name": "python3"
  },
  "language_info": {
   "codemirror_mode": {
    "name": "ipython",
    "version": 3
   },
   "file_extension": ".py",
   "mimetype": "text/x-python",
   "name": "python",
   "nbconvert_exporter": "python",
   "pygments_lexer": "ipython3",
   "version": "3.12.11"
  }
 },
 "nbformat": 4,
 "nbformat_minor": 5
}
