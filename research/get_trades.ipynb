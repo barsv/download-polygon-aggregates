{
 "cells": [
  {
   "cell_type": "code",
   "execution_count": null,
   "id": "0",
   "metadata": {},
   "outputs": [],
   "source": [
    "import numpy as np\n",
    "import pandas as pd\n",
    "import plotly.express as px\n",
    "import os\n",
    "\n",
    "# Imports from local scripts.\n",
    "from data_downloader import download, get_filename\n",
    "from trailing_stop_loss import generate_stop_loss_levels\n",
    "from trailing_stop_loss import calculate_pl"
   ]
  },
  {
   "cell_type": "code",
   "execution_count": null,
   "id": "1",
   "metadata": {},
   "outputs": [],
   "source": [
    "ticker = 'AAPL'\n",
    "interval = '5s'\n",
    "year = '2024'"
   ]
  },
  {
   "cell_type": "code",
   "execution_count": null,
   "id": "2",
   "metadata": {},
   "outputs": [],
   "source": [
    "# get data\n",
    "filename = get_filename(ticker, interval, year)\n",
    "# If file doesn't exist, then download it.\n",
    "if not os.path.exists(filename):\n",
    "\tdownload(ticker, interval, year)\n",
    "\n",
    "df = pd.read_parquet(filename)\n",
    "\n",
    "# # show what is loaded\n",
    "# fig = px.line(df[-1000:], y='open', title=f'{ticker} Open Prices')\n",
    "# fig.show()\n",
    "\n",
    "total_bars = df.shape[0]\n",
    "print(f'Total bars: {total_bars} ({total_bars:,})')"
   ]
  },
  {
   "cell_type": "code",
   "execution_count": null,
   "id": "3",
   "metadata": {},
   "outputs": [],
   "source": [
    "# Set trailing stop-loss levels\n",
    "max_sl = 0.3\n",
    "sl_steps = 10\n",
    "stop_loss_percents, stop_loss_levels = generate_stop_loss_levels(max_sl, sl_steps)\n",
    "\n",
    "print(\"Stop-loss levels (in percent):\")\n",
    "print(stop_loss_percents)\n",
    "print(\"\\nStop-loss levels (as fractions):\")\n",
    "print(stop_loss_levels)"
   ]
  },
  {
   "cell_type": "code",
   "execution_count": null,
   "id": "4",
   "metadata": {},
   "outputs": [],
   "source": [
    "# New cell - Calculate results using calculate_pl\n",
    "tsl_profits = calculate_pl(df, stop_loss_levels)\n",
    "print(f\"Results shape: {tsl_profits.shape}\")\n",
    "print(f\"Shape interpretation: ({len(stop_loss_levels)} SL levels, {len(df)} entry points)\")"
   ]
  },
  {
   "cell_type": "code",
   "execution_count": null,
   "id": "5",
   "metadata": {},
   "outputs": [],
   "source": [
    "from pattern_searcher import PatternSearcher\n",
    "from pattern_analysis import create_window\n",
    "\n",
    "start_index = 1192098\n",
    "m = 60 # window size\n",
    "r_limit = 0.98\n",
    "searcher = PatternSearcher(df['open'], template_length=m)\n",
    "pattern = create_window(df, start_index, m)\n",
    "r = searcher.search(pattern) # correlations\n",
    "mask = r > r_limit\n",
    "found_similar_count = len(r[mask])\n",
    "indices = np.where(mask)[0]\n",
    "indicesString = np.array2string(indices, threshold=10)\n",
    "print(f'{len(indices)} points with r above {r_limit}: {indicesString}')"
   ]
  },
  {
   "cell_type": "code",
   "execution_count": null,
   "id": "6",
   "metadata": {},
   "outputs": [],
   "source": [
    "# Create trades.csv from similar pattern points\n",
    "trades_data = []\n",
    "\n",
    "# Use 0.15% trailing stop loss (position 5 in stop_loss_levels)\n",
    "tsl_index = 5  # 0.15% stop loss level\n",
    "print(f\"Using TSL level: {stop_loss_percents[tsl_index]:.2f}% ({stop_loss_levels[tsl_index]:.4f})\")\n",
    "\n",
    "for i, pattern_start_idx in enumerate(indices, 1):\n",
    "    # Entry point is after the pattern window (pattern_start + window_size)\n",
    "    entry_idx = pattern_start_idx + m\n",
    "    \n",
    "    # Skip if entry point is beyond available data\n",
    "    if entry_idx >= len(df):\n",
    "        continue\n",
    "    \n",
    "    # Get entry data\n",
    "    timestamp = df.iloc[entry_idx]['timestamp']\n",
    "    entry_price = df.iloc[entry_idx]['open']\n",
    "    \n",
    "    # Get PnL from tsl_profits for this entry point and TSL level\n",
    "    pnl = tsl_profits[tsl_index, entry_idx] if entry_idx < tsl_profits.shape[1] else np.nan\n",
    "    \n",
    "    trades_data.append({\n",
    "        'trade_id': i,\n",
    "        'side': 'long',\n",
    "        'entry_ts': pd.to_datetime(timestamp, unit='s'),\n",
    "        'entry_price': entry_price,\n",
    "        'exit_ts': pd.NaT,  # Will be filled later if needed\n",
    "        'exit_price': np.nan,\n",
    "        'stop_loss': stop_loss_percents[tsl_index] / 100,  # Convert to fraction\n",
    "        'take_profit': 0.25,\n",
    "        'pnl': pnl,\n",
    "        'pnl_pct': (pnl / entry_price) * 100 if not np.isnan(pnl) else np.nan,\n",
    "        'mae': np.nan,\n",
    "        'mfe': np.nan,\n",
    "        'duration_s': np.nan,\n",
    "        'params_hash': f'PATTERN_{r_limit}'\n",
    "    })\n",
    "\n",
    "# Create DataFrame and save to CSV\n",
    "trades_df = pd.DataFrame(trades_data)\n",
    "trades_df.to_csv('data/trades.csv', index=False)\n",
    "\n",
    "print(f\"Created trades.csv with {len(trades_data)} pattern-based entries\")\n",
    "print(f\"Average PnL: {trades_df['pnl'].mean():.4f}\")\n",
    "print(f\"Win rate: {(trades_df['pnl'] > 0).mean():.2%}\")\n",
    "print(\"\\nFirst 3 rows:\")\n",
    "print(trades_df.head(3))"
   ]
  }
 ],
 "metadata": {
  "kernelspec": {
   "display_name": "venv",
   "language": "python",
   "name": "python3"
  },
  "language_info": {
   "codemirror_mode": {
    "name": "ipython",
    "version": 3
   },
   "file_extension": ".py",
   "mimetype": "text/x-python",
   "name": "python",
   "nbconvert_exporter": "python",
   "pygments_lexer": "ipython3",
   "version": "3.12.11"
  }
 },
 "nbformat": 4,
 "nbformat_minor": 5
}
