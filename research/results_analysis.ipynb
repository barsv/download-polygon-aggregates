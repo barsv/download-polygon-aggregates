{
 "cells": [
  {
   "cell_type": "code",
   "execution_count": null,
   "id": "0",
   "metadata": {},
   "outputs": [],
   "source": [
    "import numpy as np\n",
    "import plotly.graph_objects as go\n",
    "from collections import defaultdict\n",
    "\n",
    "from checkpoints import load_ckpt\n",
    "\n",
    "# Force fixed-point notation instead of scientific notation in prints\n",
    "np.set_printoptions(suppress=True, precision=6)"
   ]
  },
  {
   "cell_type": "code",
   "execution_count": null,
   "id": "1",
   "metadata": {},
   "outputs": [],
   "source": [
    "ckpt = load_ckpt('data', 'ckpt_20250819_014553.pkl.gz')\n",
    "#ckpt = load_ckpt('data/ckpt_AAPL_5s_2024')\n",
    "ckpt.keys()"
   ]
  },
  {
   "cell_type": "markdown",
   "id": "2",
   "metadata": {},
   "source": [
    "#### check duplicates"
   ]
  },
  {
   "cell_type": "code",
   "execution_count": null,
   "id": "3",
   "metadata": {},
   "outputs": [],
   "source": [
    "# check duplicates\n",
    "\n",
    "results = ckpt['results_pickle'] # [(starting_point, similar_count)]\n",
    "orig_len = len(results)\n",
    "\n",
    "# filter duplicates\n",
    "seen_indices = set()\n",
    "results_filtered = []\n",
    "for item in results:\n",
    "    start_index = item[0]\n",
    "    if start_index not in seen_indices:\n",
    "        seen_indices.add(start_index)\n",
    "        results_filtered.append(item)\n",
    "\n",
    "results = results_filtered\n",
    "\n",
    "print(f\"Original length: {orig_len}\")\n",
    "print(f\"After dups are removed: {len(results)}\")"
   ]
  },
  {
   "cell_type": "markdown",
   "id": "4",
   "metadata": {},
   "source": [
    "#### first look into results"
   ]
  },
  {
   "cell_type": "code",
   "execution_count": null,
   "id": "5",
   "metadata": {},
   "outputs": [],
   "source": [
    "# x[0] = starting_point, x[1] = similar_count\n",
    "sorted_by_similar_number = sorted(results, key=lambda x: x[1], reverse=True)\n",
    "sorted_by_similar_number[:10]"
   ]
  },
  {
   "cell_type": "markdown",
   "id": "6",
   "metadata": {},
   "source": [
    "#### distribution of similar counts"
   ]
  },
  {
   "cell_type": "code",
   "execution_count": null,
   "id": "7",
   "metadata": {},
   "outputs": [],
   "source": [
    "import plotly.graph_objects as go\n",
    "import plotly.express as px\n",
    "from collections import Counter\n",
    "\n",
    "# Extract all similar_number values (index 1)\n",
    "similar_numbers = [item[1] for item in results]\n",
    "\n",
    "# Count frequency of each value\n",
    "counter = Counter(similar_numbers)\n",
    "\n",
    "# Create chart with Plotly\n",
    "values = list(counter.keys())\n",
    "frequencies = list(counter.values())\n",
    "\n",
    "figWidget = go.Figure()\n",
    "\n",
    "figWidget.add_trace(go.Scatter(\n",
    "    x=values,\n",
    "    y=frequencies,\n",
    "    mode='markers',\n",
    "    marker=dict(\n",
    "        size=8,\n",
    "        opacity=0.7,\n",
    "        color='blue'\n",
    "    ),\n",
    "    name='Frequency'\n",
    "))\n",
    "\n",
    "figWidget.update_layout(\n",
    "    title='Distribution of Similar Pattern Counts',\n",
    "    xaxis_title='Similar Number (count of similar patterns)',\n",
    "    yaxis_title='Frequency (log scale)',\n",
    "    yaxis_type=\"log\",\n",
    "    showlegend=False,\n",
    "    height=600,\n",
    "    width=900\n",
    ")\n",
    "\n",
    "figWidget.update_xaxes(showgrid=True, gridwidth=1, gridcolor='lightgray')\n",
    "figWidget.update_yaxes(showgrid=True, gridwidth=1, gridcolor='lightgray')\n",
    "\n",
    "figWidget.show()\n",
    "\n",
    "print(f\"Mean value: {sum(similar_numbers) / len(similar_numbers):.2f}\")"
   ]
  },
  {
   "cell_type": "markdown",
   "id": "8",
   "metadata": {},
   "source": [
    "#### distribution of profits"
   ]
  },
  {
   "cell_type": "code",
   "execution_count": null,
   "id": "9",
   "metadata": {},
   "outputs": [],
   "source": [
    "# # Group data by similar_number (index 1)\n",
    "# grouped_data = defaultdict(list)\n",
    "# for item in results:\n",
    "#     similar_num = item[1]\n",
    "#     max_profit = item[1]\n",
    "#     grouped_data[similar_num].append(max_profit)\n",
    "\n",
    "# # Calculate statistics for each group\n",
    "# similar_numbers = []\n",
    "# min_profits = []\n",
    "# max_profits = []\n",
    "# mean_profits = []\n",
    "\n",
    "# for similar_num in sorted(grouped_data.keys()):\n",
    "#     profits = grouped_data[similar_num]\n",
    "#     similar_numbers.append(similar_num)\n",
    "#     min_profits.append(min(profits))\n",
    "#     max_profits.append(max(profits))\n",
    "#     mean_profits.append(np.mean(profits))\n",
    "\n",
    "# # Create chart with Plotly\n",
    "# figWidget = go.Figure()\n",
    "\n",
    "# # Minimum points\n",
    "# figWidget.add_trace(go.Scatter(\n",
    "#     x=similar_numbers,\n",
    "#     y=min_profits,\n",
    "#     mode='markers',\n",
    "#     marker=dict(color='blue', size=6, opacity=0.7),\n",
    "#     name='Minimum'\n",
    "# ))\n",
    "\n",
    "# # Maximum points\n",
    "# figWidget.add_trace(go.Scatter(\n",
    "#     x=similar_numbers,\n",
    "#     y=max_profits,\n",
    "#     mode='markers',\n",
    "#     marker=dict(color='green', size=6, opacity=0.7),\n",
    "#     name='Maximum'\n",
    "# ))\n",
    "\n",
    "# # Mean value line\n",
    "# figWidget.add_trace(go.Scatter(\n",
    "#     x=similar_numbers,\n",
    "#     y=mean_profits,\n",
    "#     mode='lines+markers',\n",
    "#     line=dict(color='red', width=2),\n",
    "#     marker=dict(color='red', size=4),\n",
    "#     name='Mean Value'\n",
    "# ))\n",
    "\n",
    "# figWidget.update_layout(\n",
    "#     title='Range of Maximum Profits by Similar Number',\n",
    "#     xaxis_title='Similar Number (count of similar patterns)',\n",
    "#     yaxis_title='Maximum Profit',\n",
    "#     height=600,\n",
    "#     width=1000,\n",
    "#     legend=dict(x=0.02, y=0.98)\n",
    "# )\n",
    "\n",
    "# figWidget.update_xaxes(showgrid=True, gridwidth=1, gridcolor='lightgray')\n",
    "# figWidget.update_yaxes(showgrid=True, gridwidth=1, gridcolor='lightgray')\n",
    "\n",
    "# figWidget.show()"
   ]
  },
  {
   "cell_type": "markdown",
   "id": "10",
   "metadata": {},
   "source": [
    "#### export indexes with their similar counts"
   ]
  },
  {
   "cell_type": "code",
   "execution_count": null,
   "id": "11",
   "metadata": {},
   "outputs": [],
   "source": [
    "# x[0] = starting_point, x[1] = similar_count\n",
    "sorted_results = sorted(results, key=lambda x: (x[1], -x[0]), reverse=True)\n",
    "np.savetxt(\n",
    "    'data/AAPL_2024_5s_index_similar.csv',\n",
    "    sorted_results,\n",
    "    delimiter=',',\n",
    "    fmt='%d',\n",
    "    header='start_index,similar_number',\n",
    "    comments='')\n",
    "# double check the sorting\n",
    "sorted_results_np = np.array(sorted_results)\n",
    "print(np.array2string(sorted_results_np))"
   ]
  },
  {
   "cell_type": "markdown",
   "id": "12",
   "metadata": {},
   "source": [
    "#### check the top result"
   ]
  },
  {
   "cell_type": "code",
   "execution_count": null,
   "id": "13",
   "metadata": {},
   "outputs": [],
   "source": [
    "from data_downloader import download, get_filename\n",
    "from pattern_searcher import PatternSearcher\n",
    "from pattern_analysis import create_window\n",
    "import pandas as pd\n",
    "import sys, os\n",
    "\n",
    "ticker = 'AAPL'\n",
    "interval = '5s'\n",
    "year = '2024'\n",
    "m = 60 # window size\n",
    "\n",
    "print('loading prices')\n",
    "# download data to the file on disk.\n",
    "filename = get_filename(ticker, interval, year)\n",
    "if not os.path.exists(filename):\n",
    "\tdownload(ticker, interval, year)\n",
    "# read data from the file on disk.\n",
    "filename = get_filename(ticker, interval, year)\n",
    "df = pd.read_parquet(filename)\n",
    "\n",
    "start_index = sorted_results[0][0]\n",
    "expected_similar_count = sorted_results[0][1]\n",
    "print(f'for the data point {start_index} we expect to have {expected_similar_count} similar points')\n",
    "searcher = PatternSearcher(df['open'], template_length=m)\n",
    "pattern = create_window(df, start_index, m)\n",
    "r = searcher.search(pattern) # correlations\n",
    "found_similar_count = len(r[np.abs(r) > 0.98])\n",
    "print(f'found similar: {found_similar_count}. {\"match\" if found_similar_count == expected_similar_count else \"missmatch\"}')\n",
    "indices = np.where(np.abs(r) > 0.99)[0]\n",
    "print(f'{len(indices)} points with r above 0.99: {indices}')"
   ]
  },
  {
   "cell_type": "code",
   "execution_count": null,
   "id": "14",
   "metadata": {},
   "outputs": [],
   "source": [
    "# check that all r > 0.99 are present in the results\n",
    "for index in indices:\n",
    "    print([row for row in sorted_results if row[0] == index])"
   ]
  },
  {
   "cell_type": "markdown",
   "id": "15",
   "metadata": {},
   "source": [
    "#### tSNE results"
   ]
  },
  {
   "cell_type": "code",
   "execution_count": null,
   "id": "16",
   "metadata": {},
   "outputs": [],
   "source": [
    "# reduce the number of data points for tSNE\n",
    "sorted_results_slice = sorted_results#[:1000]"
   ]
  },
  {
   "cell_type": "code",
   "execution_count": null,
   "id": "17",
   "metadata": {},
   "outputs": [],
   "source": [
    "# Extract pattern features\n",
    "patterns = extract_pattern_features(df, sorted_results_slice, m=60)\n",
    "# Calc t-SNE (takes 35 seconds)\n",
    "tsne_coords = get_tsne(patterns)\n",
    "# info for the popup on mouse hovering over a point\n",
    "pattern_info = get_pattern_info(sorted_results_slice)"
   ]
  },
  {
   "cell_type": "code",
   "execution_count": null,
   "id": "18",
   "metadata": {},
   "outputs": [],
   "source": [
    "from trailing_stop_loss import calculate_pl\n",
    "from trailing_stop_loss import generate_stop_loss_levels\n",
    "\n",
    "# Set trailing stop-loss levels\n",
    "max_sl = 1\n",
    "sl_steps = 10\n",
    "stop_loss_percents, stop_loss_levels = generate_stop_loss_levels(max_sl, sl_steps)\n",
    "tsl_profits = calculate_pl(df, stop_loss_levels)\n",
    "stop_loss_percents"
   ]
  },
  {
   "cell_type": "code",
   "execution_count": null,
   "id": "19",
   "metadata": {},
   "outputs": [],
   "source": [
    "searcher = PatternSearcher(df['open'], template_length=m)\n",
    "r_limit = 0.98\n",
    "for i, result_item in enumerate(sorted_results_slice):\n",
    "    start_index = result_item[0]\n",
    "    pattern = create_window(df, start_index, m)\n",
    "    # get similar starting points as a mask\n",
    "    r = searcher.search(pattern) # correlations\n",
    "    mask = r > r_limit\n",
    "    # shift mask on m point forward to get entry points.\n",
    "    entries_mask = np.concatenate([np.array([False] * (m - 1)), mask])\n",
    "    # apply the mask on tsl_profits\n",
    "    masked_profits = tsl_profits[:, entries_mask]\n",
    "    # get averages\n",
    "    averages = masked_profits.mean(axis=1)\n",
    "    # get max pl\n",
    "    max_pnl_index = np.argmax(averages)\n",
    "    max_pnl = averages[max_pnl_index]\n",
    "    # add it to the pattern_info to use in tSNE visualization later.\n",
    "    pattern_info[i]['max_pnl'] = max_pnl.item()\n",
    "    pattern_info[i]['max_pnl_index'] = max_pnl_index\n",
    "    pattern_info[i]['sl'] = stop_loss_percents[max_pnl_index]\n",
    "    pattern_info[i]['side'] = 'long' if pattern_info[i]['sl'] < 0 else 'short'"
   ]
  },
  {
   "cell_type": "code",
   "execution_count": null,
   "id": "20",
   "metadata": {},
   "outputs": [],
   "source": [
    "# plot tSNE\n",
    "plot_data, figWidget = visualize_clusters_tsne(tsne_coords, pattern_info, 'max_pnl')\n",
    "figWidget"
   ]
  },
  {
   "cell_type": "code",
   "execution_count": null,
   "id": "21",
   "metadata": {},
   "outputs": [],
   "source": [
    "plot_data, figWidget = visualize_clusters_tsne(tsne_coords, pattern_info, 'max_pnl_index')\n",
    "figWidget"
   ]
  },
  {
   "cell_type": "code",
   "execution_count": null,
   "id": "22",
   "metadata": {},
   "outputs": [],
   "source": [
    "plot_selected() # starting point 770975, 1259400, 1244137"
   ]
  },
  {
   "cell_type": "code",
   "execution_count": null,
   "id": "23",
   "metadata": {},
   "outputs": [],
   "source": [
    "def print_avg_pls():\n",
    "    if len(click_log) > 0:\n",
    "        last_click_log = click_log[-1]\n",
    "        clicked_trace = last_click_log['trace']\n",
    "        clicked_index = last_click_log['index']\n",
    "        selected_staring_point = int(clicked_trace['customdata'][clicked_index][0])\n",
    "        #selected_staring_point = 1244137\n",
    "        pattern = create_window(df, selected_staring_point, m)\n",
    "        # get similar starting points as a mask\n",
    "        r = searcher.search(pattern) # correlations\n",
    "        mask = r > r_limit\n",
    "        print(f'mask sum: {mask.sum()}')\n",
    "        # shift mask on m point forward to get entry points.\n",
    "        entries_mask = np.concatenate([np.array([False] * m), mask[:-1]])\n",
    "        # apply the mask on tsl_profits\n",
    "        masked_profits = tsl_profits[:, entries_mask]\n",
    "        # get averages\n",
    "        averages = masked_profits.mean(axis=1)\n",
    "        print(f'starting point: {selected_staring_point}, PLs: {averages}')\n",
    "    else:\n",
    "        print('select a point on tSNE')\n",
    "\n",
    "print_avg_pls()"
   ]
  }
 ],
 "metadata": {
  "jupytext": {
   "hide_notebook_metadata": true
  },
  "kernelspec": {
   "display_name": "venv",
   "language": "python",
   "name": "python3"
  },
  "language_info": {
   "codemirror_mode": {
    "name": "ipython",
    "version": 3
   },
   "file_extension": ".py",
   "mimetype": "text/x-python",
   "name": "python",
   "nbconvert_exporter": "python",
   "pygments_lexer": "ipython3",
   "version": "3.12.11"
  }
 },
 "nbformat": 4,
 "nbformat_minor": 5
}
